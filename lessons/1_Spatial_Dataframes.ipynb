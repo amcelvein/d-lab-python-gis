{
 "cells": [
  {
   "cell_type": "markdown",
   "metadata": {},
   "source": [
    "# Python Geospatial Fundamental: Getting Started with Spatial Dataframes\n",
    "\n",
    "* * * \n",
    "\n",
    "<div class=\"alert alert-success\">  \n",
    "    \n",
    "### Learning Objectives \n",
    "    \n",
    "* Recognize different forms of geospatial data and coordinate reference system (CRS).\n",
    "* Use `GeoPandas` and `matplotlib` libraries to map and analyze spatial data.\n",
    "</div>\n",
    "\n",
    "### Icons Used in This Notebook\n",
    "🔔 **Question**: A quick question to help you understand what's going on.<br>\n",
    "🥊 **Challenge**: Interactive excersise. We'll work through these in the workshop!<br>\n",
    "💡 **Tip**: How to do something a bit more efficiently or effectively.<br>\n",
    "⚠️ **Warning:** Heads-up about tricky stuff or common mistakes.<br>\n",
    "📝 **Poll:** A Zoom poll to help you learn!<br>\n",
    "🎬 **Demo**: Showing off something more advanced – so you know what Python can be used for!<br> \n",
    "\n",
    "### Sections\n",
    "1. [Introduction to Geospatial Data](#section1)\n",
    "2. [Introduction to GeoPandas](#section2)\n",
    "3. [CRS and Map Projection](#section3)\n",
    "4. [Mapping and Spatial Analysis](#section4)"
   ]
  },
  {
   "cell_type": "markdown",
   "metadata": {},
   "source": [
    "Be sure to have text between code cells explaining the material, step-by-step.\n",
    "\n",
    "Keep the following in mind:\n",
    "- Keep narrative text limited! \n",
    "- Avoid discussion of edge cases or caveats.\n",
    "- Use colloquial languague and minimal jargon; if you need it, explain it.\n",
    "- Use **boldface** to highlight key concepts and important terms, but use it sparingly.\n",
    "- Don't use italics.\n",
    "- Use en-dash for lists.\n",
    "- Use `code font` for anything in code like variables, functions, and packages.\n",
    "- Use `code font` for menu items (like `Restart Kernel`), and data frame rows/columns. \n",
    "- When discussing functions, include the trailing parentheses (e.g. `print()`).\n",
    "- When discussing methods, include the dot (e.g. `.sum()`).\n",
    "- Consistently use emoji for relevant sections. See below for some examples."
   ]
  },
  {
   "cell_type": "markdown",
   "metadata": {},
   "source": [
    "- ToDos: add link to launch in Datahub"
   ]
  },
  {
   "cell_type": "markdown",
   "metadata": {
    "tags": []
   },
   "source": [
    "<a id='section1'></a>\n",
    "\n",
    "# 1. Introduction to Geospatial Data"
   ]
  },
  {
   "cell_type": "markdown",
   "metadata": {},
   "source": [
    "We will begin today's workshop with an overview of the geospatial data. We will introduce the following concepts that you will frequently encounter when working with geospatial data:\n",
    "\n",
    "- Geospatial data\n",
    "- Coordinate Reference Systems (CRS)\n",
    "- Geographic Coordinate Systems (GCS) and Projected Coordinate Systems (PCS)\n",
    "- Types of spatial data (vector vs. raster)"
   ]
  },
  {
   "cell_type": "markdown",
   "metadata": {},
   "source": [
    "## Geographic Data vs. Geospatial Data"
   ]
  },
  {
   "attachments": {},
   "cell_type": "markdown",
   "metadata": {},
   "source": [
    "<img src=\"../images/UC%20Berkeley.jpg\" width=\"500\"/>\n",
    "</div>\n",
    "\n",
    "A single unit of **geographic data** includes:\n",
    "- **Location (where)**: UC Berkeley\n",
    "- **Attributes**: data that describe the location\n",
    "\n",
    "Also great to have metadata:\n",
    "- **Source**\n",
    "- **Datum, Projection**"
   ]
  },
  {
   "attachments": {},
   "cell_type": "markdown",
   "metadata": {},
   "source": [
    "<div>\n",
    "<img src=\"../images/Berkeley%20Map.jpg\" width=\"500\"/>\n",
    "</div>\n",
    "\n",
    "**Geospatial data** encodes location geometrically with coordinates [latitude, longitude]: [37.87131, -122.26019]."
   ]
  },
  {
   "cell_type": "markdown",
   "metadata": {},
   "source": [
    "## Coordinate Reference Systems (CRS)"
   ]
  },
  {
   "attachments": {},
   "cell_type": "markdown",
   "metadata": {},
   "source": [
    "A Coordinate Reference System, or CRS, is a system for associating coordinates with a **specific, unambiguous** location on the surface of the Earth. There are two types of coordinate reference systems: **Geographic CRS** and **Projected CRS**.\n",
    "\n",
    "<div>\n",
    "<img src=\"../images/CRS.jpg\" width=\"500\"/>\n",
    "</div>\n",
    "\n",
    "Geographic CRS use angular units (degrees) while projected CRS use Cartesian units (feet or meters) more commonly used for local or regional mapping and analysis. \n",
    "\n",
    "### GCS is widely used and expressed as latitude and longitude.\n",
    "- CRSs are referenced in software by numeric codes, often callsed **EPSG codes**.\n",
    "- WGS84 (EPSG: 4325): Based on satellites, used by cell phones, GPS; best overall fit for most places on earth.\n",
    "- NAD83 (EPSG: 4269): Based on satellite and survey data; best fit for USA; used by many federal data products, like Census data"
   ]
  },
  {
   "cell_type": "markdown",
   "metadata": {},
   "source": [
    "### PCS transforms geographic coordinates (lat/lon) to 2D coordinates (X/Y)\n",
    "\n",
    "- All maps projections introduce **distortion** in area, shape, distance or direction. \n",
    "- Specific map projections minimize distortion in one or more properties. \n",
    "- You need to know the coordinate reference system of your input data.\n",
    "- You need to select the CRS that is most suitable for your data and application.\n",
    "- The Mercator projection, for example, is used where angular relationships are important (shape, direction), but areas are distorted, especially as you move away from the equator."
   ]
  },
  {
   "attachments": {},
   "cell_type": "markdown",
   "metadata": {},
   "source": [
    "## Types of Spatial Data\n",
    "\n",
    "There are two fundemental spatial data models:\n",
    "- Vector\n",
    "- Raster\n",
    "\n",
    "<div>\n",
    "<img src=\"../images/raster_vector.png\" width=\"350\"/>\n",
    "</div>"
   ]
  },
  {
   "cell_type": "markdown",
   "metadata": {},
   "source": [
    "<a id='section2'></a>\n",
    "\n",
    "# 2. Introduction to GeoPandas\n",
    "\n",
    "In this lesson, we'll learn about a package that is core to using geospatial data in Python: GeoPandas. We'll explore the structure of geospatial data (which, turns out, is not too different from DataFrames!), including geometries, shapefiles, and how to save your hard work."
   ]
  },
  {
   "cell_type": "markdown",
   "metadata": {},
   "source": [
    "## What is GeoPandas?\n",
    "\n",
    "[`GeoPandas`](http://geopandas.org/) is a relatively new package that makes it easier to work with geospatial data in Python. In the last few years it has grown more powerful and stable, allow Python to practioners to more easily and flexibly work with geospatial data in Python, which had been difficult in the past. `GeoPandas` is now the go-to package for working with vector geospatial data in Python. \n",
    "\n",
    "If you work with raster data, check out the [`rasterio`](https://rasterio.readthedocs.io/en/latest/) package. We will introduce it briefly in the second half of the workshop.\n",
    "\n",
    "`GeoPandas` gives you access to all of the functionality of [`pandas`](https://pandas.pydata.org/), which is the primary data analysis tool for working with tabular data in Python. GeoPandas extends pandas with attributes and methods for working with geospatial data. So, if you're familiar with pandas, working with geospatial data is a natural next step."
   ]
  },
  {
   "cell_type": "markdown",
   "metadata": {},
   "source": [
    "### Import Libraries\n",
    "\n",
    "Let's start by importing the libraries that we will use. If you haven't already, you can install `GeoPandas` within this notebook:"
   ]
  },
  {
   "cell_type": "code",
   "execution_count": 1,
   "metadata": {
    "scrolled": true
   },
   "outputs": [
    {
     "name": "stdout",
     "output_type": "stream",
     "text": [
      "Collecting geopandas\n",
      "  Downloading geopandas-0.14.0-py3-none-any.whl (1.1 MB)\n",
      "\u001b[2K     \u001b[90m━━━━━━━━━━━━━━━━━━━━━━━━━━━━━━━━━━━━━━━━\u001b[0m \u001b[32m1.1/1.1 MB\u001b[0m \u001b[31m5.3 MB/s\u001b[0m eta \u001b[36m0:00:00\u001b[0ma \u001b[36m0:00:01\u001b[0m\n",
      "\u001b[?25hCollecting pyproj>=3.3.0\n",
      "  Downloading pyproj-3.6.1-cp39-cp39-macosx_10_9_x86_64.whl (6.1 MB)\n",
      "\u001b[2K     \u001b[90m━━━━━━━━━━━━━━━━━━━━━━━━━━━━━━━━━━━━━━━━\u001b[0m \u001b[32m6.1/6.1 MB\u001b[0m \u001b[31m5.8 MB/s\u001b[0m eta \u001b[36m0:00:00\u001b[0m00:01\u001b[0m00:01\u001b[0m\n",
      "\u001b[?25hCollecting shapely>=1.8.0\n",
      "  Downloading shapely-2.0.2-cp39-cp39-macosx_10_9_x86_64.whl (1.4 MB)\n",
      "\u001b[2K     \u001b[90m━━━━━━━━━━━━━━━━━━━━━━━━━━━━━━━━━━━━━━━━\u001b[0m \u001b[32m1.4/1.4 MB\u001b[0m \u001b[31m6.4 MB/s\u001b[0m eta \u001b[36m0:00:00\u001b[0ma \u001b[36m0:00:01\u001b[0m\n",
      "\u001b[?25hCollecting fiona>=1.8.21\n",
      "  Downloading fiona-1.9.5-cp39-cp39-macosx_10_15_x86_64.whl (18.5 MB)\n",
      "\u001b[2K     \u001b[90m━━━━━━━━━━━━━━━━━━━━━━━━━━━━━━━━━━━━━━━━\u001b[0m \u001b[32m18.5/18.5 MB\u001b[0m \u001b[31m5.8 MB/s\u001b[0m eta \u001b[36m0:00:00\u001b[0m00:01\u001b[0m00:01\u001b[0m\n",
      "\u001b[?25hRequirement already satisfied: pandas>=1.4.0 in /Users/meiqingli/opt/anaconda3/lib/python3.9/site-packages (from geopandas) (1.4.4)\n",
      "Requirement already satisfied: packaging in /Users/meiqingli/opt/anaconda3/lib/python3.9/site-packages (from geopandas) (21.3)\n",
      "Requirement already satisfied: importlib-metadata in /Users/meiqingli/opt/anaconda3/lib/python3.9/site-packages (from fiona>=1.8.21->geopandas) (4.11.3)\n",
      "Collecting cligj>=0.5\n",
      "  Downloading cligj-0.7.2-py3-none-any.whl (7.1 kB)\n",
      "Requirement already satisfied: attrs>=19.2.0 in /Users/meiqingli/opt/anaconda3/lib/python3.9/site-packages (from fiona>=1.8.21->geopandas) (21.4.0)\n",
      "Requirement already satisfied: certifi in /Users/meiqingli/opt/anaconda3/lib/python3.9/site-packages (from fiona>=1.8.21->geopandas) (2022.9.24)\n",
      "Requirement already satisfied: click~=8.0 in /Users/meiqingli/opt/anaconda3/lib/python3.9/site-packages (from fiona>=1.8.21->geopandas) (8.0.4)\n",
      "Requirement already satisfied: six in /Users/meiqingli/opt/anaconda3/lib/python3.9/site-packages (from fiona>=1.8.21->geopandas) (1.16.0)\n",
      "Collecting click-plugins>=1.0\n",
      "  Downloading click_plugins-1.1.1-py2.py3-none-any.whl (7.5 kB)\n",
      "Requirement already satisfied: setuptools in /Users/meiqingli/opt/anaconda3/lib/python3.9/site-packages (from fiona>=1.8.21->geopandas) (63.4.1)\n",
      "Requirement already satisfied: python-dateutil>=2.8.1 in /Users/meiqingli/opt/anaconda3/lib/python3.9/site-packages (from pandas>=1.4.0->geopandas) (2.8.2)\n",
      "Requirement already satisfied: pytz>=2020.1 in /Users/meiqingli/opt/anaconda3/lib/python3.9/site-packages (from pandas>=1.4.0->geopandas) (2022.1)\n",
      "Requirement already satisfied: numpy>=1.18.5 in /Users/meiqingli/opt/anaconda3/lib/python3.9/site-packages (from pandas>=1.4.0->geopandas) (1.21.5)\n",
      "Requirement already satisfied: pyparsing!=3.0.5,>=2.0.2 in /Users/meiqingli/opt/anaconda3/lib/python3.9/site-packages (from packaging->geopandas) (3.0.9)\n",
      "Requirement already satisfied: zipp>=0.5 in /Users/meiqingli/opt/anaconda3/lib/python3.9/site-packages (from importlib-metadata->fiona>=1.8.21->geopandas) (3.8.0)\n",
      "Installing collected packages: shapely, pyproj, cligj, click-plugins, fiona, geopandas\n",
      "Successfully installed click-plugins-1.1.1 cligj-0.7.2 fiona-1.9.5 geopandas-0.14.0 pyproj-3.6.1 shapely-2.0.2\n",
      "Note: you may need to restart the kernel to use updated packages.\n"
     ]
    }
   ],
   "source": [
    "# Install GeoPandas if you don't have it yet\n",
    "%pip install geopandas"
   ]
  },
  {
   "cell_type": "code",
   "execution_count": 2,
   "metadata": {},
   "outputs": [],
   "source": [
    "import pandas as pd\n",
    "import geopandas as gpd\n",
    "\n",
    "import matplotlib # Base python plotting library\n",
    "import matplotlib.pyplot as plt # Submodule of matplotlib\n",
    "\n",
    "# To display plots, maps, charts etc in the notebook\n",
    "%matplotlib inline "
   ]
  },
  {
   "cell_type": "markdown",
   "metadata": {},
   "source": [
    "### Read in a Shapefile\n",
    "\n",
    "As we discussed in the initial geospatial overview, a *shapefile* is one type of geospatial data that holds vector data. \n",
    "\n",
    "> To learn more about ESRI Shapefiles, this is a good place to start: [ESRI Shapefile Wiki Page](https://en.wikipedia.org/wiki/Shapefile) \n",
    "\n",
    "The tricky thing to remember about shapefiles is that they're actually a collection of 3 to 9+ files together. Here's a list of all the files that can make up a shapefile:\n",
    " \n",
    "* `shp`: The main file that stores the feature geometry\n",
    "* `shx`: The index file that stores the index of the feature geometry  \n",
    "* `dbf`: The dBASE table that stores the attribute information of features \n",
    "* `prj`: The file that stores the coordinate system information. (should be required!)\n",
    "* `xml`: Metadata: Stores information about the shapefile.\n",
    "* `cpg`: Specifies the code page for identifying the character set to be used.\n",
    "\n",
    "But it remains the most commonly used file format for vector spatial data, and it's really easy to visualize in one go!\n",
    "\n",
    "Let's try it out with California counties, and use GeoPandas for the first time. We can use a flexible function called `gpd.read_file` to read in many different types of geospatial data. When using it, we'll specify the `shp` file:"
   ]
  },
  {
   "cell_type": "code",
   "execution_count": 4,
   "metadata": {},
   "outputs": [],
   "source": [
    "# Read in the counties shapefile\n",
    "counties = gpd.read_file('../data/California_County_Boundaries/cnty19_1.shp')"
   ]
  },
  {
   "cell_type": "code",
   "execution_count": 5,
   "metadata": {},
   "outputs": [
    {
     "data": {
      "text/plain": [
       "<AxesSubplot:>"
      ]
     },
     "execution_count": 5,
     "metadata": {},
     "output_type": "execute_result"
    },
    {
     "data": {
      "image/png": "[encoded data removed]",
      "text/plain": [
       "<Figure size 640x480 with 1 Axes>"
      ]
     },
     "metadata": {},
     "output_type": "display_data"
    }
   ],
   "source": [
    "# Plot out California counties\n",
    "counties.plot()"
   ]
  },
  {
   "cell_type": "markdown",
   "metadata": {},
   "source": [
    "## Exploring the GeoPandas GeoDataFrame\n",
    "\n",
    "Before we get in too deep, let's discuss what a *GeoDataFrame* is and how it's different from a pandas *DataFrame*.\n",
    "\n",
    "A [GeoPandas GeoDataFrame](https://geopandas.org/data_structures.html#geodataframe), or `gdf` for short, is just like a pandas DataFrame (`df`) but with an extra geometry column as well as accompanying methods and attributes that work on that column. Let's emphasize this point, because it's important:\n",
    "\n",
    "> A [GeoPandas GeoDataFrame](https://geopandas.org/data_structures.html#geodataframe), or `gdf` for short, is just like a pandas DataFrame (`df`) but with an extra geometry column as well as accompanying methods and attributes that work on that column.\n",
    "\n",
    "This means all the methods and attributes of a pandas DataFrame also work on a GeoPandas GeoDataFrame!\n",
    "\n",
    "With that in mind, let's start exploring our dataframe just like we would do in pandas."
   ]
  },
  {
   "cell_type": "code",
   "execution_count": 6,
   "metadata": {},
   "outputs": [
    {
     "data": {
      "text/plain": [
       "(69, 11)"
      ]
     },
     "execution_count": 6,
     "metadata": {},
     "output_type": "execute_result"
    }
   ],
   "source": [
    "# Find the number of rows and columns in counties\n",
    "counties.shape"
   ]
  },
  {
   "cell_type": "code",
   "execution_count": 7,
   "metadata": {},
   "outputs": [
    {
     "data": {
      "text/html": [
       "<div>\n",
       "<style scoped>\n",
       "    .dataframe tbody tr th:only-of-type {\n",
       "        vertical-align: middle;\n",
       "    }\n",
       "\n",
       "    .dataframe tbody tr th {\n",
       "        vertical-align: top;\n",
       "    }\n",
       "\n",
       "    .dataframe thead th {\n",
       "        text-align: right;\n",
       "    }\n",
       "</style>\n",
       "<table border=\"1\" class=\"dataframe\">\n",
       "  <thead>\n",
       "    <tr style=\"text-align: right;\">\n",
       "      <th></th>\n",
       "      <th>OBJECTID</th>\n",
       "      <th>COUNTY_NAM</th>\n",
       "      <th>COUNTY_ABB</th>\n",
       "      <th>COUNTY_NUM</th>\n",
       "      <th>COUNTY_COD</th>\n",
       "      <th>COUNTY_FIP</th>\n",
       "      <th>ISLAND</th>\n",
       "      <th>GlobalID</th>\n",
       "      <th>SHAPE_Leng</th>\n",
       "      <th>SHAPE_Area</th>\n",
       "      <th>geometry</th>\n",
       "    </tr>\n",
       "  </thead>\n",
       "  <tbody>\n",
       "    <tr>\n",
       "      <th>0</th>\n",
       "      <td>1</td>\n",
       "      <td>Alameda</td>\n",
       "      <td>ALA</td>\n",
       "      <td>1</td>\n",
       "      <td>01</td>\n",
       "      <td>001</td>\n",
       "      <td>None</td>\n",
       "      <td>{E6F92268-D2DD-4CFB-8B79-5B4B2F07C559}</td>\n",
       "      <td>308998.650975</td>\n",
       "      <td>-3.402787e+09</td>\n",
       "      <td>POLYGON ((-13611173.233 4566017.932, -13611061...</td>\n",
       "    </tr>\n",
       "    <tr>\n",
       "      <th>1</th>\n",
       "      <td>2</td>\n",
       "      <td>Alpine</td>\n",
       "      <td>ALP</td>\n",
       "      <td>2</td>\n",
       "      <td>02</td>\n",
       "      <td>003</td>\n",
       "      <td>None</td>\n",
       "      <td>{870479B2-480A-494B-8352-AD60578839C1}</td>\n",
       "      <td>274888.492662</td>\n",
       "      <td>-3.146939e+09</td>\n",
       "      <td>POLYGON ((-13312326.921 4680816.110, -13312311...</td>\n",
       "    </tr>\n",
       "    <tr>\n",
       "      <th>2</th>\n",
       "      <td>3</td>\n",
       "      <td>Amador</td>\n",
       "      <td>AMA</td>\n",
       "      <td>3</td>\n",
       "      <td>03</td>\n",
       "      <td>005</td>\n",
       "      <td>None</td>\n",
       "      <td>{4F45B3A6-BE10-461C-8945-6B2AAA7119F6}</td>\n",
       "      <td>361708.438649</td>\n",
       "      <td>-2.562635e+09</td>\n",
       "      <td>POLYGON ((-13366405.546 4679183.529, -13366408...</td>\n",
       "    </tr>\n",
       "    <tr>\n",
       "      <th>3</th>\n",
       "      <td>4</td>\n",
       "      <td>Butte</td>\n",
       "      <td>BUT</td>\n",
       "      <td>4</td>\n",
       "      <td>04</td>\n",
       "      <td>007</td>\n",
       "      <td>None</td>\n",
       "      <td>{44FBA680-AECC-4E04-A499-29D69AFFBD4A}</td>\n",
       "      <td>526547.113134</td>\n",
       "      <td>-7.339348e+09</td>\n",
       "      <td>POLYGON ((-13478186.664 4807593.081, -13478502...</td>\n",
       "    </tr>\n",
       "    <tr>\n",
       "      <th>4</th>\n",
       "      <td>5</td>\n",
       "      <td>Calaveras</td>\n",
       "      <td>CAL</td>\n",
       "      <td>5</td>\n",
       "      <td>05</td>\n",
       "      <td>009</td>\n",
       "      <td>None</td>\n",
       "      <td>{D11EF739-4A1E-414E-BFD1-E7DCD56CD61E}</td>\n",
       "      <td>370637.579039</td>\n",
       "      <td>-4.351069e+09</td>\n",
       "      <td>POLYGON ((-13360333.217 4641182.754, -13360329...</td>\n",
       "    </tr>\n",
       "  </tbody>\n",
       "</table>\n",
       "</div>"
      ],
      "text/plain": [
       "   OBJECTID COUNTY_NAM COUNTY_ABB  COUNTY_NUM COUNTY_COD COUNTY_FIP ISLAND  \\\n",
       "0         1    Alameda        ALA           1         01        001   None   \n",
       "1         2     Alpine        ALP           2         02        003   None   \n",
       "2         3     Amador        AMA           3         03        005   None   \n",
       "3         4      Butte        BUT           4         04        007   None   \n",
       "4         5  Calaveras        CAL           5         05        009   None   \n",
       "\n",
       "                                 GlobalID     SHAPE_Leng    SHAPE_Area  \\\n",
       "0  {E6F92268-D2DD-4CFB-8B79-5B4B2F07C559}  308998.650975 -3.402787e+09   \n",
       "1  {870479B2-480A-494B-8352-AD60578839C1}  274888.492662 -3.146939e+09   \n",
       "2  {4F45B3A6-BE10-461C-8945-6B2AAA7119F6}  361708.438649 -2.562635e+09   \n",
       "3  {44FBA680-AECC-4E04-A499-29D69AFFBD4A}  526547.113134 -7.339348e+09   \n",
       "4  {D11EF739-4A1E-414E-BFD1-E7DCD56CD61E}  370637.579039 -4.351069e+09   \n",
       "\n",
       "                                            geometry  \n",
       "0  POLYGON ((-13611173.233 4566017.932, -13611061...  \n",
       "1  POLYGON ((-13312326.921 4680816.110, -13312311...  \n",
       "2  POLYGON ((-13366405.546 4679183.529, -13366408...  \n",
       "3  POLYGON ((-13478186.664 4807593.081, -13478502...  \n",
       "4  POLYGON ((-13360333.217 4641182.754, -13360329...  "
      ]
     },
     "execution_count": 7,
     "metadata": {},
     "output_type": "execute_result"
    }
   ],
   "source": [
    "# Look at the first couple of rows in our geodataframe\n",
    "counties.head()"
   ]
  },
  {
   "cell_type": "code",
   "execution_count": 8,
   "metadata": {},
   "outputs": [
    {
     "data": {
      "text/plain": [
       "Index(['OBJECTID', 'COUNTY_NAM', 'COUNTY_ABB', 'COUNTY_NUM', 'COUNTY_COD',\n",
       "       'COUNTY_FIP', 'ISLAND', 'GlobalID', 'SHAPE_Leng', 'SHAPE_Area',\n",
       "       'geometry'],\n",
       "      dtype='object')"
      ]
     },
     "execution_count": 8,
     "metadata": {},
     "output_type": "execute_result"
    }
   ],
   "source": [
    "# Look at all the variables included in our data\n",
    "counties.columns"
   ]
  },
  {
   "cell_type": "markdown",
   "metadata": {},
   "source": [
    "## Plot the GeoDataFrame\n",
    "\n",
    "We're able to plot our GeoDataFrame because of the extra `geometry` column. What exactly does this column provide?\n",
    "\n",
    "### GeoPandas Geometries\n",
    "\n",
    "There are three main types of geometries that can be associated with your GeoDataFrame: points, lines and polygons.\n",
    "\n",
    "<img src =\"https://datacarpentry.org/organization-geospatial/fig/dc-spatial-vector/pnt_line_poly.png\" width=\"450\"></img>\n",
    "\n",
    "In the GeoDataFrame, these geometries are encoded in a format known as [Well-Known Text (WKT)](https://en.wikipedia.org/wiki/Well-known_text_representation_of_geometry). Consider the following examples:\n",
    "\n",
    "- POINT (30 10)\n",
    "- LINESTRING (30 10, 10 30, 40 40)\n",
    "- POLYGON ((30 10, 40 40, 20 40, 10 20, 30 10))\n",
    "\n",
    "In each case, coordinates are separated by a spaces, and coordinate pairs are separated by commas.\n",
    "\n",
    "Your geodataframe may also include the variants **multipoints, multilines, and multipolgyons** if the row-level feature of interest is comprised of multiple parts. For example, a GeoDataFrame of states, where one row represents one state, would have a POLYGON geometry for Utah but MULTIPOLYGON for Hawaii, which includes many islands.\n",
    "\n",
    "Note that, it's OK to mix and match geometries of the same family, e.g., POLYGON and MULTIPOLYGON, in the same GeoDataFrame."
   ]
  },
  {
   "cell_type": "markdown",
   "metadata": {},
   "source": [
    "## Save Your Data\n",
    "\n",
    "Let's not forget to save out our Alameda County geodataframe `alameda_county`. This way we won't need to repeat the processing steps and attribute join we did above.\n",
    "\n",
    "We can save it as a shapefile:"
   ]
  },
  {
   "cell_type": "code",
   "execution_count": 9,
   "metadata": {},
   "outputs": [
    {
     "ename": "NameError",
     "evalue": "name 'alameda_county' is not defined",
     "output_type": "error",
     "traceback": [
      "\u001b[0;31m---------------------------------------------------------------------------\u001b[0m",
      "\u001b[0;31mNameError\u001b[0m                                 Traceback (most recent call last)",
      "\u001b[0;32m/var/folders/yr/52z4svh97h5bmb5gcq4c_0tm0000gn/T/ipykernel_47013/3767798361.py\u001b[0m in \u001b[0;36m<module>\u001b[0;34m\u001b[0m\n\u001b[0;32m----> 1\u001b[0;31m \u001b[0malameda_county\u001b[0m\u001b[0;34m.\u001b[0m\u001b[0mto_file\u001b[0m\u001b[0;34m(\u001b[0m\u001b[0;34m\"../data/outdata/alameda_county.shp\"\u001b[0m\u001b[0;34m)\u001b[0m\u001b[0;34m\u001b[0m\u001b[0;34m\u001b[0m\u001b[0m\n\u001b[0m",
      "\u001b[0;31mNameError\u001b[0m: name 'alameda_county' is not defined"
     ]
    }
   ],
   "source": [
    "alameda_county.to_file(\"../data/outdata/alameda_county.shp\")"
   ]
  },
  {
   "cell_type": "markdown",
   "metadata": {},
   "source": [
    "One of the problems of saving to a shapefile is that our column names get truncated to 10 characters (this is a shapefile limitation). \n",
    "\n",
    "Instead of renaming all columns with obscure names that are less than 10 characters, we can save our GeoDataFrame to spatial data file formats that do not have this limation, such as [GeoJSON](https://en.wikipedia.org/wiki/GeoJSON) or [GPKG](https://en.wikipedia.org/wiki/GeoPackage) (geopackage) files.\n",
    "\n",
    "These formats have the added benefit of outputting only one file in contrast to the multi-file shapefile format."
   ]
  },
  {
   "cell_type": "code",
   "execution_count": null,
   "metadata": {},
   "outputs": [],
   "source": [
    "alameda_county.to_file(\"../data/outdata/alameda_county.json\", driver=\"GeoJSON\")"
   ]
  },
  {
   "cell_type": "code",
   "execution_count": null,
   "metadata": {},
   "outputs": [],
   "source": [
    "alameda_county.to_file(\"../data/outdata/alameda_county.gpkg\", driver=\"GPKG\")"
   ]
  },
  {
   "cell_type": "markdown",
   "metadata": {},
   "source": [
    "You can read these in, just as you would a shapefile with `gpd.read_file`:"
   ]
  },
  {
   "cell_type": "code",
   "execution_count": null,
   "metadata": {},
   "outputs": [],
   "source": [
    "alameda_county_test2 = gpd.read_file(\"../data/outdata/alameda_county.json\")\n",
    "alameda_county_test2.plot()"
   ]
  },
  {
   "cell_type": "code",
   "execution_count": null,
   "metadata": {},
   "outputs": [],
   "source": [
    "alameda_county_test = gpd.read_file(\"../data/outdata/alameda_county.gpkg\")\n",
    "alameda_county_test.plot()"
   ]
  },
  {
   "cell_type": "markdown",
   "metadata": {},
   "source": [
    "There are also many other formats we could use for data output.\n",
    "\n",
    "**NOTE**: If you're working with point data (i.e. a single latitude and longitude value per feature),\n",
    "then CSV might be a good option!"
   ]
  },
  {
   "cell_type": "markdown",
   "metadata": {},
   "source": [
    "<a id='section3'></a>\n",
    "\n",
    "# 3. CRS and Map Projections"
   ]
  },
  {
   "cell_type": "markdown",
   "metadata": {},
   "source": [
    "## Working with CRSs in GeoPandas\n",
    "\n",
    "Now that we've covered some of the basics, let's turn back to the code. Even though there are a lot of details, GeoPandas actually makes it pretty easy to work with CRSs!\n",
    "\n",
    "### Identifying the CRS of a GeoDataFrame\n",
    "\n",
    "GeoPandas GeoDataFrames have a `crs` attribute that returns the CRS of the data:"
   ]
  },
  {
   "cell_type": "code",
   "execution_count": 10,
   "metadata": {},
   "outputs": [
    {
     "data": {
      "text/plain": [
       "<Projected CRS: EPSG:3857>\n",
       "Name: WGS 84 / Pseudo-Mercator\n",
       "Axis Info [cartesian]:\n",
       "- X[east]: Easting (metre)\n",
       "- Y[north]: Northing (metre)\n",
       "Area of Use:\n",
       "- name: World between 85.06°S and 85.06°N.\n",
       "- bounds: (-180.0, -85.06, 180.0, 85.06)\n",
       "Coordinate Operation:\n",
       "- name: Popular Visualisation Pseudo-Mercator\n",
       "- method: Popular Visualisation Pseudo Mercator\n",
       "Datum: World Geodetic System 1984 ensemble\n",
       "- Ellipsoid: WGS 84\n",
       "- Prime Meridian: Greenwich"
      ]
     },
     "execution_count": 10,
     "metadata": {},
     "output_type": "execute_result"
    }
   ],
   "source": [
    "counties.crs"
   ]
  },
  {
   "cell_type": "code",
   "execution_count": 11,
   "metadata": {},
   "outputs": [
    {
     "name": "stdout",
     "output_type": "stream",
     "text": [
      "EPSG:3857\n"
     ]
    }
   ],
   "source": [
    "print(counties.crs)"
   ]
  },
  {
   "cell_type": "markdown",
   "metadata": {},
   "source": [
    "### Setting the CRS\n",
    "\n",
    "You can also set the CRS of a GeoDataFrame using the `crs` attribute.  You should set the CRS if is not defined or if you think it is incorrectly defined.\n",
    "\n",
    "> In desktop GIS terminology, setting the CRS is called **defining the CRS**.\n",
    "\n",
    "As an example, let's set the CRS of our data to `None`:"
   ]
  },
  {
   "cell_type": "code",
   "execution_count": null,
   "metadata": {},
   "outputs": [],
   "source": []
  },
  {
   "cell_type": "code",
   "execution_count": null,
   "metadata": {},
   "outputs": [],
   "source": []
  },
  {
   "cell_type": "code",
   "execution_count": null,
   "metadata": {},
   "outputs": [],
   "source": []
  },
  {
   "cell_type": "markdown",
   "metadata": {},
   "source": [
    "<a id='section4'></a>\n",
    "\n",
    "# 4. Mapping and Spatial Analysis"
   ]
  },
  {
   "cell_type": "markdown",
   "metadata": {},
   "source": [
    "## More Data More Maps"
   ]
  },
  {
   "cell_type": "code",
   "execution_count": null,
   "metadata": {},
   "outputs": [],
   "source": []
  },
  {
   "cell_type": "markdown",
   "metadata": {},
   "source": [
    "## Data-Driven Mapping"
   ]
  },
  {
   "cell_type": "code",
   "execution_count": null,
   "metadata": {},
   "outputs": [],
   "source": []
  },
  {
   "cell_type": "code",
   "execution_count": null,
   "metadata": {},
   "outputs": [],
   "source": [
    "# Code cells\n",
    "\n",
    "# Imports are always put at the top of the file. They should be on separate lines.\n",
    "import some_package\n",
    "\n",
    "# But this is okay\n",
    "from another_package import some_function\n",
    "\n",
    "# Comments:\n",
    "# Use comments sparingly: better to explain in markdown!\n",
    "# Use comments to further specify particular lines of code when needed.\n",
    "# Comments start with a capital letter, and a space between the hashtag and the first word\n",
    "\n",
    "# In general ,we follow the PEP style guide: https://peps.python.org/pep-0008/\n",
    "\n",
    "# Coding style: \n",
    "# Use snake case and single quotation marks, unless your string includes single quotation marks.\n",
    "# Most operators are surrounded with a single space.\n",
    "some_variable = 12\n",
    "if some_variable == 10:\n",
    "    print(\"high\")\n",
    "\n",
    "# Always use spaces after commas\n",
    "some_list = [1, 2, 3, 4]\n",
    "\n",
    "# Don’t use spaces around the = sign when used to indicate a keyword argument.\n",
    "def some_function(a=1, b=2):\n",
    "# Use 4 spaces per indentation level\n",
    "    print(\"something\")\n",
    "\n",
    "\n",
    "# Data: \n",
    "# use relevant social science datasets whenever you can. \n",
    "# Think health data, demographics, etc.\n",
    "# Stay away from \"impersonal\" datasets like the Iris or Penguins dataset.\n",
    "# Use the top-level \"data\" folder in the repo to store data"
   ]
  },
  {
   "cell_type": "code",
   "execution_count": null,
   "metadata": {},
   "outputs": [],
   "source": [
    "# You might want to have an install cell, if your workshop uses a special package\n",
    "# e.g.,\n",
    "# !pip install [PACKAGE]"
   ]
  },
  {
   "cell_type": "code",
   "execution_count": null,
   "metadata": {},
   "outputs": [],
   "source": [
    "# You might want to have an import cell, so that you can do all imports at the beginning.\n",
    "# e.g.,\n",
    "# import numpy as np\n",
    "# import pandas as pd"
   ]
  },
  {
   "cell_type": "markdown",
   "metadata": {},
   "source": [
    "### Subsubsection [EDIT ME]\n",
    "\n",
    "Use H3 headers for subsubsections, in Title Case, following [APA rules](https://apastyle.apa.org/style-grammar-guidelines/capitalization/title-case). Don't go lower than H3 if you can avoid it."
   ]
  },
  {
   "cell_type": "markdown",
   "metadata": {
    "jp-MarkdownHeadingCollapsed": true,
    "tags": []
   },
   "source": [
    "<details><summary><a>Expandable sections</a></summary>\n",
    "Expandable sections like these can be used for hints, or for information that is optional or more advanced, and you do not want to immediately expose to all workshop participants. Use these expandable sections scarcely!\n",
    "</details>\n"
   ]
  },
  {
   "cell_type": "markdown",
   "metadata": {},
   "source": [
    "<a id='section2'></a>\n",
    "\n",
    "# Section Name [EDIT ME]\n",
    "\n"
   ]
  },
  {
   "cell_type": "markdown",
   "metadata": {
    "tags": []
   },
   "source": [
    "## 🥊 Challenge #: [Name of Challenge]\n",
    "\n",
    "- Challenges are typically formatted as subsection (##). Title Case applies.\n",
    "- Challenges use the 🥊 Boxing Glove emoji in the header.\n",
    "- Try to have at least one exercise every 15 minutes of instruction. More is better. A two-hour workshop needs at least **six challenges**.\n",
    "- Challenges have names and are numbered. You should reference them in the Solutions file.\n",
    "- Plan around 8 minutes for each challenge (including discussion of the solution and questions).\n",
    "- Don't use \"Bonus Challenges\" or the like. If really needed, use a \"Take-Home Challenge\" (1 max!) so it's clear these can be completed outside the workshop.\n",
    "- Copy filled-in challenges over to a solutions notebook that goes into the \"solutions \"folder. \n",
    "\n",
    "### *Example:*\n",
    "\n",
    "## 🥊 Challenge 1: Printing!\n",
    "\n",
    "Write your own `print()` statement in the code cell below. Follow the syntax of the example above, and change the text in the quotation marks.\n"
   ]
  },
  {
   "cell_type": "code",
   "execution_count": null,
   "metadata": {},
   "outputs": [],
   "source": [
    "# You may have some starter code for the challenge that you can put in its own cell.\n",
    "# Always have a following cell that says \"YOUR CODE HERE\" with a few empty lines beneath it, \n",
    "# so that attendees know where to put their code."
   ]
  },
  {
   "cell_type": "code",
   "execution_count": null,
   "metadata": {},
   "outputs": [],
   "source": [
    "# YOUR CODE HERE\n",
    "\n",
    "\n"
   ]
  },
  {
   "cell_type": "code",
   "execution_count": null,
   "metadata": {},
   "outputs": [],
   "source": [
    "# You may also use scaffolding. Use three dots (...) to indicate scaffolding.\n",
    "\n",
    "def ...:\n",
    "    # YOUR CODE HERE\n",
    "    return ..."
   ]
  },
  {
   "cell_type": "markdown",
   "metadata": {},
   "source": [
    "💡 **Tip**: \n",
    "- Tips can be formatted as subsection (##) when they're more substantial.\n",
    "- Tips use the 💡 Electric Light Bulb Emoji in the header / at the start of the line, followed by boldface **Tip:**, followed by the tip. \n",
    "- Tips are not numbered.\n",
    "- Keep them short and to the point.\n",
    "- See the Jupyter notebook template for an example.\n",
    "\n",
    "### *Example:*\n",
    "\n",
    "💡 **Tip**: A method is written with parenteses: e.g. `gap.value_counts()`. An attribute is written without parentheses: e.g. `gap.columns`.\n"
   ]
  },
  {
   "cell_type": "markdown",
   "metadata": {},
   "source": [
    "## 💡 Tip: [Name of Tip]\n",
    "- Tips can be formatted as subsection (##) when they're more substantial. Title Case applies.\n",
    "- Tips use the 💡 Electric Light Bulb Emoji in the header.\n",
    "- Tips are not numbered.\n",
    "- Keep them short and to the point.\n",
    "- See the Jupyter notebook template for an example."
   ]
  },
  {
   "cell_type": "markdown",
   "metadata": {},
   "source": [
    "🔔 **Question:** \n",
    "- Questions are used without header. \n",
    "- Questions use the 🔔 Bell Emoji at the start of the line, followed by boldface **Question:**, followed by the question.\n",
    "- Questions are short queries about code or concepts. \n",
    "- Questions do not require participants to enter code. \n",
    "- Questions can be used as attention checks, and discussed during the workshop.\n",
    "- See the Jupyter notebook template for an example.\n",
    "\n",
    "*Example:*\n",
    "\n",
    "🔔 **Question**: what will the output of the following code be?"
   ]
  },
  {
   "cell_type": "code",
   "execution_count": null,
   "metadata": {},
   "outputs": [],
   "source": [
    "numbers = [12, 20, 43, 88, 97, 100, 105, 110]\n",
    "\n",
    "for number in numbers:\n",
    "    if number > 100:\n",
    "        print(number, 'is greater than 100.')"
   ]
  },
  {
   "cell_type": "markdown",
   "metadata": {},
   "source": [
    "📝 **Poll**\n",
    "\n",
    "- Polls refer to Zoom polls, which can be used as a form of formative assessment.\n",
    "- Talk to D-Lab staff if you want to create Zoom polls before adding them in the notebook.\n",
    "- Polls use the 📝 memo enoji at the start of the line, followed by boldface **Poll**, followed by the name of the poll.\n",
    "- Polls are named with the format {workshop name}{workshop part - poll number}\n",
    "- make sure to check if they are **activated** by clicking \"Polls/Quizzes\" in Zoom.\n",
    "- Polls are used without header.\n",
    "\n",
    "### *Example:*\n",
    "\n",
    "📝 **Poll PyInt 2-2:**  Why are only some of the columns in the `DataFrame` visible in the output?"
   ]
  },
  {
   "cell_type": "markdown",
   "metadata": {
    "tags": []
   },
   "source": [
    "<a id='demo'></a>\n",
    "\n",
    "\n",
    "# 🎬 Demo: [Title Of Demo]\n",
    "\n",
    "- Demos can be used at the end of a notebook to show / highlight some advanced functionalities outside the scope of the workshop. \n",
    "- Demos are written as main sections (#) that are linked to in the \"Sections\" section. Title Case applies.\n",
    "- Demos use the 🎬 Clapper Board Emoji at the start of the header.\n",
    "- Demos can used once per notebook.\n",
    "- Demos can be used to enthuse participants, and to point them to relevant other D-Lab workshops.\n",
    "- Demos are meant to be short: 5-10 mins max.\n",
    "\n",
    "### *Example:*"
   ]
  },
  {
   "cell_type": "markdown",
   "metadata": {
    "tags": []
   },
   "source": [
    "# 🎬 Demo: Working With Data Frames\n",
    "\n",
    "To cap off this workshop, here's a demo to see what reproducible data science with Python looks like.\n",
    "Just run the code cell below, and don't worry if you don't understand everything!\n",
    "\n",
    "* We'll be using a `pandas` DataFrame to store and manipulate the data - you'll learn more about `pandas` and DataFrames in the next workshop!\n",
    "* Our data comes from the California Health Interview Survey (CHIS), the nation's largest state health survey. \n",
    "\n",
    "Let's have a look at the data:"
   ]
  },
  {
   "cell_type": "code",
   "execution_count": null,
   "metadata": {},
   "outputs": [],
   "source": [
    "import pandas as pd\n",
    "\n",
    "# Reading in a comma-seperated values file\n",
    "chis_df = pd.read_csv('some_file.csv')\n",
    "chis_df.head()"
   ]
  },
  {
   "cell_type": "markdown",
   "metadata": {},
   "source": [
    "Looks like we have a bunch of information here. Let's focus on the column for the number of sodas people have per day (the \"number_sodas\" column), and whether people rent or own a house (the \"tenure\" column).\n",
    "\n",
    "In the next steps, we'll...\n",
    "1. change the datatype of a column,\n",
    "2. create dummy variables (variables that take values of 0 and 1), and \n",
    "3. group our data.\n",
    "\n",
    "This allows us to calculate the average amount of sodas consumed by people who do and do not own a house."
   ]
  },
  {
   "cell_type": "code",
   "execution_count": null,
   "metadata": {},
   "outputs": [],
   "source": [
    "# Changing the data type of a column\n",
    "chis_df['number_sodas'] = chis_df['number_sodas'].astype(float)\n",
    "\n",
    "# Creating dummy variables\n",
    "chis_dummies = pd.get_dummies(chis_df, columns=['tenure'])\n",
    "\n",
    "# Grouping the average number of consumed sodas by people who own a house\n",
    "chis_dummies['number_sodas'].groupby(chis_dummies['tenure_OWN']).mean()"
   ]
  },
  {
   "cell_type": "markdown",
   "metadata": {},
   "source": [
    "Note: For more information, see the `style.md` file in the main folder."
   ]
  },
  {
   "cell_type": "markdown",
   "metadata": {
    "jp-MarkdownHeadingCollapsed": true,
    "tags": []
   },
   "source": [
    "<div class=\"alert alert-success\">\n",
    "\n",
    "## ❗ Key Points\n",
    "\n",
    "* EDIT ME. Recap the most useful information in this notebook. Keep it short and use action words. Min 3, max 8.\n",
    "* EDIT ME. Recap the most useful information in this notebook. Keep it short and use action words. Min 3, max 8.\n",
    "* EDIT ME. Recap the most useful information in this notebook. Keep it short and use action words. Min 3, max 8.\n",
    "\n",
    "</div>"
   ]
  }
 ],
 "metadata": {
  "kernelspec": {
   "display_name": "Python 3",
   "language": "python",
   "name": "python3"
  },
  "language_info": {
   "codemirror_mode": {
    "name": "ipython",
    "version": 3
   },
   "file_extension": ".py",
   "mimetype": "text/x-python",
   "name": "python",
   "nbconvert_exporter": "python",
   "pygments_lexer": "ipython3",
   "version": "3.7.4"
  }
 },
 "nbformat": 4,
 "nbformat_minor": 4
}
