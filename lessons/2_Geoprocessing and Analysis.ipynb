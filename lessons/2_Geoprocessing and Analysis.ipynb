{
 "cells": [
  {
   "cell_type": "markdown",
   "metadata": {},
   "source": [
    "# Python Geospatial Fundamental: Geoprocessing and Analysis\n",
    "\n",
    "* * * \n",
    "\n",
    "<div class=\"alert alert-success\">  \n",
    "    \n",
    "### Learning Objectives \n",
    "    \n",
    "* Apply more advanced Python libraries for interactive visualization.\n",
    "* Choose domain-specific spatial datasets to create your own maps.\n",
    "</div>\n",
    "\n",
    "### Sections\n",
    "1. [Mapping and Spatial Analysis (cont'd)](#section1)\n",
    "2. [Interactive Visualization](#section2)\n",
    "3. [API, Vector and Raster Data Sources](#section3)\n",
    "4. [Create Your Own Map](#section4)"
   ]
  },
  {
   "cell_type": "markdown",
   "metadata": {
    "tags": []
   },
   "source": [
    "<a id='section1'></a>\n",
    "\n",
    "# 1. Mapping and Spatial Analysis (cont'd)"
   ]
  },
  {
   "cell_type": "markdown",
   "metadata": {},
   "source": [
    "## Spatial Join and Aggregation\n",
    "\n",
    "A **spatial join**, is the process by which we can leverage the spatial relationships between distinct datasets to merge their information into a new, synthetic dataset. This operation can be thought as the spatial equivalent of an **attribute join**, in which multiple tabular datasets can be merged by aligning matching values in a common column that they both contain. If you've done data wrangling in Python with `pandas`, you've probably performed an attribute join at some point.\n",
    "\n",
    "We'll start by developing an understanding of this operation using census tract data."
   ]
  },
  {
   "cell_type": "code",
   "execution_count": 1,
   "metadata": {},
   "outputs": [],
   "source": [
    "import pandas as pd\n",
    "import geopandas as gpd\n",
    "\n",
    "import matplotlib\n",
    "import matplotlib.pyplot as plt\n",
    "\n",
    "%matplotlib inline  "
   ]
  },
  {
   "cell_type": "code",
   "execution_count": 6,
   "metadata": {
    "scrolled": true
   },
   "outputs": [],
   "source": [
    "# import school data\n",
    "alameda_school = gpd.read_file('../data/alameda_school.shp')\n",
    "\n",
    "# import census tract data\n",
    "tracts_gdf = gpd.read_file(\"zip://../data/Census/Tracts/cb_2013_06_tract_500k.zip\")"
   ]
  },
  {
   "cell_type": "markdown",
   "metadata": {},
   "source": [
    "<a id='section2'></a>\n",
    "\n",
    "# 2. Interactive Visualization"
   ]
  },
  {
   "cell_type": "markdown",
   "metadata": {},
   "source": [
    "Leaflet map"
   ]
  },
  {
   "cell_type": "markdown",
   "metadata": {},
   "source": [
    "<a id='section3'></a>\n",
    "\n",
    "# 3.🎬 **Demo**: API, Vector and Raster Data Sources"
   ]
  },
  {
   "cell_type": "markdown",
   "metadata": {},
   "source": [
    "<a id='section4'></a>\n",
    "\n",
    "# 4. 🥊 Challenge: Create Your Own Map"
   ]
  },
  {
   "cell_type": "code",
   "execution_count": null,
   "metadata": {},
   "outputs": [],
   "source": []
  },
  {
   "cell_type": "code",
   "execution_count": null,
   "metadata": {},
   "outputs": [],
   "source": []
  },
  {
   "cell_type": "code",
   "execution_count": null,
   "metadata": {},
   "outputs": [],
   "source": [
    "# You may have some starter code for the challenge that you can put in its own cell.\n",
    "# Always have a following cell that says \"YOUR CODE HERE\" with a few empty lines beneath it, \n",
    "# so that attendees know where to put their code."
   ]
  },
  {
   "cell_type": "code",
   "execution_count": null,
   "metadata": {},
   "outputs": [],
   "source": [
    "# YOUR CODE HERE\n",
    "\n",
    "\n"
   ]
  },
  {
   "cell_type": "markdown",
   "metadata": {
    "jp-MarkdownHeadingCollapsed": true,
    "tags": []
   },
   "source": [
    "<details><summary><a>Expandable sections</a></summary>\n",
    "Expandable sections like these can be used for hints, or for information that is optional or more advanced, and you do not want to immediately expose to all workshop participants. Use these expandable sections scarcely!\n",
    "</details>\n"
   ]
  },
  {
   "cell_type": "markdown",
   "metadata": {
    "jp-MarkdownHeadingCollapsed": true,
    "tags": []
   },
   "source": [
    "<div class=\"alert alert-success\">\n",
    "\n",
    "## ❗ Key Points\n",
    "\n",
    "* EDIT ME. Recap the most useful information in this notebook. Keep it short and use action words. Min 3, max 8.\n",
    "* EDIT ME. Recap the most useful information in this notebook. Keep it short and use action words. Min 3, max 8.\n",
    "* EDIT ME. Recap the most useful information in this notebook. Keep it short and use action words. Min 3, max 8.\n",
    "\n",
    "</div>"
   ]
  }
 ],
 "metadata": {
  "kernelspec": {
   "display_name": "Python 3 (ipykernel)",
   "language": "python",
   "name": "python3"
  },
  "language_info": {
   "codemirror_mode": {
    "name": "ipython",
    "version": 3
   },
   "file_extension": ".py",
   "mimetype": "text/x-python",
   "name": "python",
   "nbconvert_exporter": "python",
   "pygments_lexer": "ipython3",
   "version": "3.11.5"
  }
 },
 "nbformat": 4,
 "nbformat_minor": 4
}
