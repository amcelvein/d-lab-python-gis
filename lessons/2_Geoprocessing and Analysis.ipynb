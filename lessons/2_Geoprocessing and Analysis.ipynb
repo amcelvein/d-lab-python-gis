{
 "cells": [
  {
   "cell_type": "markdown",
   "metadata": {},
   "source": [
    "# Python Geospatial Fundamental: Geoprocessing and Analysis\n",
    "\n",
    "* * * \n",
    "\n",
    "<div class=\"alert alert-success\">  \n",
    "    \n",
    "### Learning Objectives \n",
    "    \n",
    "* Apply more advanced Python libraries for interactive visualization.\n",
    "* Choose domain-specific spatial datasets to create your own maps.\n",
    "</div>\n",
    "\n",
    "### Sections\n",
    "1. [Mapping and Spatial Analysis (cont'd)](#section1)\n",
    "2. [Interactive Visualization](#section2)\n",
    "3. [API, Vector and Raster Data Sources](#section3)\n",
    "4. [Create Your Own Map](#section4)"
   ]
  },
  {
   "cell_type": "markdown",
   "metadata": {
    "tags": []
   },
   "source": [
    "<a id='section1'></a>\n",
    "\n",
    "# 1. Mapping and Spatial Analysis (cont'd)"
   ]
  },
  {
   "cell_type": "markdown",
   "metadata": {},
   "source": [
    "## Spatial Join\n",
    "\n",
    "A **spatial join**, is the process by which we can leverage the spatial relationships between distinct datasets to merge their information into a new, synthetic dataset. This operation can be thought as the spatial equivalent of an **attribute join**, in which multiple tabular datasets can be merged by aligning matching values in a common column that they both contain. If you've done data wrangling in Python with `pandas`, you've probably performed an attribute join at some point.\n",
    "\n",
    "We'll start by developing an understanding of this operation using census tract data."
   ]
  },
  {
   "cell_type": "code",
   "execution_count": 32,
   "metadata": {},
   "outputs": [],
   "source": [
    "import pandas as pd\n",
    "import geopandas as gpd\n",
    "\n",
    "import matplotlib\n",
    "import matplotlib.pyplot as plt\n",
    "\n",
    "%matplotlib inline  "
   ]
  },
  {
   "cell_type": "code",
   "execution_count": 33,
   "metadata": {
    "scrolled": true
   },
   "outputs": [],
   "source": [
    "# import school data\n",
    "alameda_school = gpd.read_file('../data/alameda_school.shp')\n",
    "\n",
    "# import census tract data\n",
    "alameda_tract = gpd.read_file(\"zip://../data/Census/Tracts/cb_2018_06_tract_500k.zip\")"
   ]
  },
  {
   "cell_type": "code",
   "execution_count": 34,
   "metadata": {
    "scrolled": true
   },
   "outputs": [
    {
     "data": {
      "text/html": [
       "<div>\n",
       "<style scoped>\n",
       "    .dataframe tbody tr th:only-of-type {\n",
       "        vertical-align: middle;\n",
       "    }\n",
       "\n",
       "    .dataframe tbody tr th {\n",
       "        vertical-align: top;\n",
       "    }\n",
       "\n",
       "    .dataframe thead th {\n",
       "        text-align: right;\n",
       "    }\n",
       "</style>\n",
       "<table border=\"1\" class=\"dataframe\">\n",
       "  <thead>\n",
       "    <tr style=\"text-align: right;\">\n",
       "      <th></th>\n",
       "      <th>STATEFP</th>\n",
       "      <th>COUNTYFP</th>\n",
       "      <th>TRACTCE</th>\n",
       "      <th>AFFGEOID</th>\n",
       "      <th>GEOID</th>\n",
       "      <th>NAME</th>\n",
       "      <th>LSAD</th>\n",
       "      <th>ALAND</th>\n",
       "      <th>AWATER</th>\n",
       "      <th>geometry</th>\n",
       "    </tr>\n",
       "  </thead>\n",
       "  <tbody>\n",
       "    <tr>\n",
       "      <th>0</th>\n",
       "      <td>06</td>\n",
       "      <td>009</td>\n",
       "      <td>000300</td>\n",
       "      <td>1400000US06009000300</td>\n",
       "      <td>06009000300</td>\n",
       "      <td>3</td>\n",
       "      <td>CT</td>\n",
       "      <td>457009794</td>\n",
       "      <td>394122</td>\n",
       "      <td>POLYGON ((-120.76399 38.21389, -120.76197 38.2...</td>\n",
       "    </tr>\n",
       "    <tr>\n",
       "      <th>1</th>\n",
       "      <td>06</td>\n",
       "      <td>011</td>\n",
       "      <td>000300</td>\n",
       "      <td>1400000US06011000300</td>\n",
       "      <td>06011000300</td>\n",
       "      <td>3</td>\n",
       "      <td>CT</td>\n",
       "      <td>952744514</td>\n",
       "      <td>195376</td>\n",
       "      <td>POLYGON ((-122.50006 39.12232, -122.50022 39.1...</td>\n",
       "    </tr>\n",
       "    <tr>\n",
       "      <th>2</th>\n",
       "      <td>06</td>\n",
       "      <td>013</td>\n",
       "      <td>303102</td>\n",
       "      <td>1400000US06013303102</td>\n",
       "      <td>06013303102</td>\n",
       "      <td>3031.02</td>\n",
       "      <td>CT</td>\n",
       "      <td>6507019</td>\n",
       "      <td>0</td>\n",
       "      <td>POLYGON ((-121.72937 37.96884, -121.71409 37.9...</td>\n",
       "    </tr>\n",
       "    <tr>\n",
       "      <th>3</th>\n",
       "      <td>06</td>\n",
       "      <td>013</td>\n",
       "      <td>303202</td>\n",
       "      <td>1400000US06013303202</td>\n",
       "      <td>06013303202</td>\n",
       "      <td>3032.02</td>\n",
       "      <td>CT</td>\n",
       "      <td>3725528</td>\n",
       "      <td>0</td>\n",
       "      <td>POLYGON ((-121.72346 37.96161, -121.71672 37.9...</td>\n",
       "    </tr>\n",
       "    <tr>\n",
       "      <th>4</th>\n",
       "      <td>06</td>\n",
       "      <td>013</td>\n",
       "      <td>303203</td>\n",
       "      <td>1400000US06013303203</td>\n",
       "      <td>06013303203</td>\n",
       "      <td>3032.03</td>\n",
       "      <td>CT</td>\n",
       "      <td>6354210</td>\n",
       "      <td>0</td>\n",
       "      <td>POLYGON ((-121.74486 37.95681, -121.74425 37.9...</td>\n",
       "    </tr>\n",
       "  </tbody>\n",
       "</table>\n",
       "</div>"
      ],
      "text/plain": [
       "  STATEFP COUNTYFP TRACTCE              AFFGEOID        GEOID     NAME LSAD  \\\n",
       "0      06      009  000300  1400000US06009000300  06009000300        3   CT   \n",
       "1      06      011  000300  1400000US06011000300  06011000300        3   CT   \n",
       "2      06      013  303102  1400000US06013303102  06013303102  3031.02   CT   \n",
       "3      06      013  303202  1400000US06013303202  06013303202  3032.02   CT   \n",
       "4      06      013  303203  1400000US06013303203  06013303203  3032.03   CT   \n",
       "\n",
       "       ALAND  AWATER                                           geometry  \n",
       "0  457009794  394122  POLYGON ((-120.76399 38.21389, -120.76197 38.2...  \n",
       "1  952744514  195376  POLYGON ((-122.50006 39.12232, -122.50022 39.1...  \n",
       "2    6507019       0  POLYGON ((-121.72937 37.96884, -121.71409 37.9...  \n",
       "3    3725528       0  POLYGON ((-121.72346 37.96161, -121.71672 37.9...  \n",
       "4    6354210       0  POLYGON ((-121.74486 37.95681, -121.74425 37.9...  "
      ]
     },
     "execution_count": 34,
     "metadata": {},
     "output_type": "execute_result"
    }
   ],
   "source": [
    "alameda_tract.head()"
   ]
  },
  {
   "cell_type": "code",
   "execution_count": 35,
   "metadata": {},
   "outputs": [
    {
     "data": {
      "image/png": "[encoded data removed]",
      "text/plain": [
       "<Figure size 640x480 with 1 Axes>"
      ]
     },
     "metadata": {},
     "output_type": "display_data"
    }
   ],
   "source": [
    "# select the tracts within Alameda county\n",
    "alameda_tract = tracts_gdf[tracts_gdf['COUNTYFP'] == '001']\n",
    "alameda_tract.plot()\n",
    "plt.show()"
   ]
  },
  {
   "cell_type": "code",
   "execution_count": 36,
   "metadata": {},
   "outputs": [],
   "source": [
    "# convert crs to that of Alameda schools\n",
    "alameda_tract = alameda_tract.to_crs(\"epsg:3857\")"
   ]
  },
  {
   "cell_type": "code",
   "execution_count": 37,
   "metadata": {},
   "outputs": [
    {
     "name": "stdout",
     "output_type": "stream",
     "text": [
      "Alameda school CRS: EPSG:3857\n",
      "Alameda tract CRS: epsg:3857\n"
     ]
    }
   ],
   "source": [
    "# check if the crs' are the same\n",
    "print(f'Alameda school CRS: {alameda_school.crs}')\n",
    "print(f'Alameda tract CRS: {alameda_tract.crs}')"
   ]
  },
  {
   "cell_type": "markdown",
   "metadata": {},
   "source": [
    "💡 **Tip**: Alternatively, we can use the following code to convert crs without having to type out EPSG code.\n",
    "\n",
    "```python\n",
    "alameda_school = alameda_school.to_crs(tracts_acs_gdf_ac.crs)\n",
    "```"
   ]
  },
  {
   "cell_type": "markdown",
   "metadata": {},
   "source": [
    "We're ready to combine the datasets in an analysis. In this case, we want to get data from the Census tract within which each school is located. We'll use the spatial join function `gpd.sjoin`. "
   ]
  },
  {
   "cell_type": "code",
   "execution_count": 38,
   "metadata": {},
   "outputs": [
    {
     "name": "stdout",
     "output_type": "stream",
     "text": [
      "Help on function sjoin in module geopandas.tools.sjoin:\n",
      "\n",
      "sjoin(left_df, right_df, how='inner', predicate='intersects', lsuffix='left', rsuffix='right', **kwargs)\n",
      "    Spatial join of two GeoDataFrames.\n",
      "    \n",
      "    See the User Guide page :doc:`../../user_guide/mergingdata` for details.\n",
      "    \n",
      "    \n",
      "    Parameters\n",
      "    ----------\n",
      "    left_df, right_df : GeoDataFrames\n",
      "    how : string, default 'inner'\n",
      "        The type of join:\n",
      "    \n",
      "        * 'left': use keys from left_df; retain only left_df geometry column\n",
      "        * 'right': use keys from right_df; retain only right_df geometry column\n",
      "        * 'inner': use intersection of keys from both dfs; retain only\n",
      "          left_df geometry column\n",
      "    predicate : string, default 'intersects'\n",
      "        Binary predicate. Valid values are determined by the spatial index used.\n",
      "        You can check the valid values in left_df or right_df as\n",
      "        ``left_df.sindex.valid_query_predicates`` or\n",
      "        ``right_df.sindex.valid_query_predicates``\n",
      "        Replaces deprecated ``op`` parameter.\n",
      "    lsuffix : string, default 'left'\n",
      "        Suffix to apply to overlapping column names (left GeoDataFrame).\n",
      "    rsuffix : string, default 'right'\n",
      "        Suffix to apply to overlapping column names (right GeoDataFrame).\n",
      "    \n",
      "    Examples\n",
      "    --------\n",
      "    >>> import geodatasets\n",
      "    >>> chicago = geopandas.read_file(\n",
      "    ...     geodatasets.get_path(\"geoda.chicago_health\")\n",
      "    ... )\n",
      "    >>> groceries = geopandas.read_file(\n",
      "    ...     geodatasets.get_path(\"geoda.groceries\")\n",
      "    ... ).to_crs(chicago.crs)\n",
      "    \n",
      "    >>> chicago.head()  # doctest: +SKIP\n",
      "        ComAreaID  ...                                           geometry\n",
      "    0         35  ...  POLYGON ((-87.60914 41.84469, -87.60915 41.844...\n",
      "    1         36  ...  POLYGON ((-87.59215 41.81693, -87.59231 41.816...\n",
      "    2         37  ...  POLYGON ((-87.62880 41.80189, -87.62879 41.801...\n",
      "    3         38  ...  POLYGON ((-87.60671 41.81681, -87.60670 41.816...\n",
      "    4         39  ...  POLYGON ((-87.59215 41.81693, -87.59215 41.816...\n",
      "    [5 rows x 87 columns]\n",
      "    \n",
      "    >>> groceries.head()  # doctest: +SKIP\n",
      "        OBJECTID     Ycoord  ...  Category                         geometry\n",
      "    0        16  41.973266  ...       NaN  MULTIPOINT (-87.65661 41.97321)\n",
      "    1        18  41.696367  ...       NaN  MULTIPOINT (-87.68136 41.69713)\n",
      "    2        22  41.868634  ...       NaN  MULTIPOINT (-87.63918 41.86847)\n",
      "    3        23  41.877590  ...       new  MULTIPOINT (-87.65495 41.87783)\n",
      "    4        27  41.737696  ...       NaN  MULTIPOINT (-87.62715 41.73623)\n",
      "    [5 rows x 8 columns]\n",
      "    \n",
      "    >>> groceries_w_communities = geopandas.sjoin(groceries, chicago)\n",
      "    >>> groceries_w_communities.head()  # doctest: +SKIP\n",
      "            OBJECTID     Ycoord     Xcoord  ... GonorrF GonorrM Tuberc\n",
      "    0          16  41.973266 -87.657073  ...   170.8   468.7   13.6\n",
      "    87        365  41.961707 -87.654058  ...   170.8   468.7   13.6\n",
      "    90        373  41.963131 -87.656352  ...   170.8   468.7   13.6\n",
      "    140       582  41.969131 -87.674882  ...   170.8   468.7   13.6\n",
      "    1          18  41.696367 -87.681315  ...   800.5   741.1    2.6\n",
      "    [5 rows x 95 columns]\n",
      "    \n",
      "    See also\n",
      "    --------\n",
      "    overlay : overlay operation resulting in a new geometry\n",
      "    GeoDataFrame.sjoin : equivalent method\n",
      "    \n",
      "    Notes\n",
      "    -----\n",
      "    Every operation in GeoPandas is planar, i.e. the potential third\n",
      "    dimension is not taken into account.\n",
      "\n"
     ]
    }
   ],
   "source": [
    "# take a look at the documentation\n",
    "help(gpd.sjoin)"
   ]
  },
  {
   "cell_type": "markdown",
   "metadata": {},
   "source": [
    "The key arguments to consider are:\n",
    "\n",
    "- The two GeoDataFrames (**`left_df`** and **`right_df`**);\n",
    "- The type of join to run (**`how`**), which can take the values `left`, `right`, or `inner`;\n",
    "- The spatial relationship query to use (**`op`**).\n",
    "\n",
    "A couple things to note:\n",
    "\n",
    "- By default, `sjoin` is an inner join. It keeps the data from both GeoDataFrames only where the locations spatially intersect.\n",
    "- By default, `sjoin` maintains the geometry of first geodataframe input to the operation. "
   ]
  },
  {
   "cell_type": "markdown",
   "metadata": {},
   "source": [
    "🔔 **Questions**: \n",
    "\n",
    "1. Which GeoDataFrame are we joining onto which (i.e. which one is getting the other one's data added to it)?\n",
    "2. What happened to 'outer' as a join type?\n",
    "3. Thus, in our operation, which GeoDataFrame should be the `left_df`, which should be the `right_df`, and `how` do we want our join to run?"
   ]
  },
  {
   "cell_type": "code",
   "execution_count": 39,
   "metadata": {},
   "outputs": [],
   "source": [
    "schools_jointracts = gpd.sjoin(left_df = alameda_school,\n",
    "                               right_df = alameda_tract,\n",
    "                               how ='left')"
   ]
  },
  {
   "cell_type": "code",
   "execution_count": 40,
   "metadata": {},
   "outputs": [
    {
     "data": {
      "text/html": [
       "<div>\n",
       "<style scoped>\n",
       "    .dataframe tbody tr th:only-of-type {\n",
       "        vertical-align: middle;\n",
       "    }\n",
       "\n",
       "    .dataframe tbody tr th {\n",
       "        vertical-align: top;\n",
       "    }\n",
       "\n",
       "    .dataframe thead th {\n",
       "        text-align: right;\n",
       "    }\n",
       "</style>\n",
       "<table border=\"1\" class=\"dataframe\">\n",
       "  <thead>\n",
       "    <tr style=\"text-align: right;\">\n",
       "      <th></th>\n",
       "      <th>OBJECTID</th>\n",
       "      <th>X</th>\n",
       "      <th>Y</th>\n",
       "      <th>Site</th>\n",
       "      <th>Address</th>\n",
       "      <th>City</th>\n",
       "      <th>State</th>\n",
       "      <th>Type</th>\n",
       "      <th>API</th>\n",
       "      <th>Org</th>\n",
       "      <th>...</th>\n",
       "      <th>index_right</th>\n",
       "      <th>STATEFP</th>\n",
       "      <th>COUNTYFP</th>\n",
       "      <th>TRACTCE</th>\n",
       "      <th>AFFGEOID</th>\n",
       "      <th>GEOID</th>\n",
       "      <th>NAME</th>\n",
       "      <th>LSAD</th>\n",
       "      <th>ALAND</th>\n",
       "      <th>AWATER</th>\n",
       "    </tr>\n",
       "  </thead>\n",
       "  <tbody>\n",
       "    <tr>\n",
       "      <th>0</th>\n",
       "      <td>1</td>\n",
       "      <td>-122.238759</td>\n",
       "      <td>37.744765</td>\n",
       "      <td>Amelia Earhart Elementary</td>\n",
       "      <td>400 Packet Landing Rd</td>\n",
       "      <td>Alameda</td>\n",
       "      <td>CA</td>\n",
       "      <td>ES</td>\n",
       "      <td>933</td>\n",
       "      <td>Public</td>\n",
       "      <td>...</td>\n",
       "      <td>2277</td>\n",
       "      <td>06</td>\n",
       "      <td>001</td>\n",
       "      <td>428302</td>\n",
       "      <td>1400000US06001428302</td>\n",
       "      <td>06001428302</td>\n",
       "      <td>4283.02</td>\n",
       "      <td>CT</td>\n",
       "      <td>2234427</td>\n",
       "      <td>474770</td>\n",
       "    </tr>\n",
       "    <tr>\n",
       "      <th>1</th>\n",
       "      <td>2</td>\n",
       "      <td>-122.251853</td>\n",
       "      <td>37.739004</td>\n",
       "      <td>Bay Farm Elementary</td>\n",
       "      <td>200 Aughinbaugh Way</td>\n",
       "      <td>Alameda</td>\n",
       "      <td>CA</td>\n",
       "      <td>ES</td>\n",
       "      <td>932</td>\n",
       "      <td>Public</td>\n",
       "      <td>...</td>\n",
       "      <td>2277</td>\n",
       "      <td>06</td>\n",
       "      <td>001</td>\n",
       "      <td>428302</td>\n",
       "      <td>1400000US06001428302</td>\n",
       "      <td>06001428302</td>\n",
       "      <td>4283.02</td>\n",
       "      <td>CT</td>\n",
       "      <td>2234427</td>\n",
       "      <td>474770</td>\n",
       "    </tr>\n",
       "    <tr>\n",
       "      <th>2</th>\n",
       "      <td>3</td>\n",
       "      <td>-122.258912</td>\n",
       "      <td>37.762062</td>\n",
       "      <td>Donald D. Lum Elementary</td>\n",
       "      <td>1801 Sandcreek Way</td>\n",
       "      <td>Alameda</td>\n",
       "      <td>CA</td>\n",
       "      <td>ES</td>\n",
       "      <td>853</td>\n",
       "      <td>Public</td>\n",
       "      <td>...</td>\n",
       "      <td>1601</td>\n",
       "      <td>06</td>\n",
       "      <td>001</td>\n",
       "      <td>428500</td>\n",
       "      <td>1400000US06001428500</td>\n",
       "      <td>06001428500</td>\n",
       "      <td>4285</td>\n",
       "      <td>CT</td>\n",
       "      <td>624197</td>\n",
       "      <td>383522</td>\n",
       "    </tr>\n",
       "    <tr>\n",
       "      <th>3</th>\n",
       "      <td>4</td>\n",
       "      <td>-122.234844</td>\n",
       "      <td>37.765247</td>\n",
       "      <td>Edison Elementary</td>\n",
       "      <td>2700 Buena Vista Ave</td>\n",
       "      <td>Alameda</td>\n",
       "      <td>CA</td>\n",
       "      <td>ES</td>\n",
       "      <td>927</td>\n",
       "      <td>Public</td>\n",
       "      <td>...</td>\n",
       "      <td>11</td>\n",
       "      <td>06</td>\n",
       "      <td>001</td>\n",
       "      <td>427100</td>\n",
       "      <td>1400000US06001427100</td>\n",
       "      <td>06001427100</td>\n",
       "      <td>4271</td>\n",
       "      <td>CT</td>\n",
       "      <td>1025446</td>\n",
       "      <td>168187</td>\n",
       "    </tr>\n",
       "    <tr>\n",
       "      <th>4</th>\n",
       "      <td>5</td>\n",
       "      <td>-122.238076</td>\n",
       "      <td>37.753962</td>\n",
       "      <td>Frank Otis Elementary</td>\n",
       "      <td>3010 Fillmore St</td>\n",
       "      <td>Alameda</td>\n",
       "      <td>CA</td>\n",
       "      <td>ES</td>\n",
       "      <td>894</td>\n",
       "      <td>Public</td>\n",
       "      <td>...</td>\n",
       "      <td>4143</td>\n",
       "      <td>06</td>\n",
       "      <td>001</td>\n",
       "      <td>428200</td>\n",
       "      <td>1400000US06001428200</td>\n",
       "      <td>06001428200</td>\n",
       "      <td>4282</td>\n",
       "      <td>CT</td>\n",
       "      <td>1366564</td>\n",
       "      <td>800242</td>\n",
       "    </tr>\n",
       "  </tbody>\n",
       "</table>\n",
       "<p>5 rows × 22 columns</p>\n",
       "</div>"
      ],
      "text/plain": [
       "   OBJECTID           X          Y                       Site  \\\n",
       "0         1 -122.238759  37.744765  Amelia Earhart Elementary   \n",
       "1         2 -122.251853  37.739004        Bay Farm Elementary   \n",
       "2         3 -122.258912  37.762062   Donald D. Lum Elementary   \n",
       "3         4 -122.234844  37.765247          Edison Elementary   \n",
       "4         5 -122.238076  37.753962      Frank Otis Elementary   \n",
       "\n",
       "                 Address     City State Type  API     Org  ... index_right  \\\n",
       "0  400 Packet Landing Rd  Alameda    CA   ES  933  Public  ...        2277   \n",
       "1    200 Aughinbaugh Way  Alameda    CA   ES  932  Public  ...        2277   \n",
       "2     1801 Sandcreek Way  Alameda    CA   ES  853  Public  ...        1601   \n",
       "3   2700 Buena Vista Ave  Alameda    CA   ES  927  Public  ...          11   \n",
       "4       3010 Fillmore St  Alameda    CA   ES  894  Public  ...        4143   \n",
       "\n",
       "  STATEFP  COUNTYFP TRACTCE              AFFGEOID        GEOID     NAME LSAD  \\\n",
       "0      06       001  428302  1400000US06001428302  06001428302  4283.02   CT   \n",
       "1      06       001  428302  1400000US06001428302  06001428302  4283.02   CT   \n",
       "2      06       001  428500  1400000US06001428500  06001428500     4285   CT   \n",
       "3      06       001  427100  1400000US06001427100  06001427100     4271   CT   \n",
       "4      06       001  428200  1400000US06001428200  06001428200     4282   CT   \n",
       "\n",
       "     ALAND  AWATER  \n",
       "0  2234427  474770  \n",
       "1  2234427  474770  \n",
       "2   624197  383522  \n",
       "3  1025446  168187  \n",
       "4  1366564  800242  \n",
       "\n",
       "[5 rows x 22 columns]"
      ]
     },
     "execution_count": 40,
     "metadata": {},
     "output_type": "execute_result"
    }
   ],
   "source": [
    "schools_jointracts.head()"
   ]
  },
  {
   "cell_type": "code",
   "execution_count": 41,
   "metadata": {},
   "outputs": [
    {
     "data": {
      "text/plain": [
       "Index(['OBJECTID', 'X', 'Y', 'Site', 'Address', 'City', 'State', 'Type', 'API',\n",
       "       'Org', 'GlobalID', 'geometry', 'index_right', 'STATEFP', 'COUNTYFP',\n",
       "       'TRACTCE', 'AFFGEOID', 'GEOID', 'NAME', 'LSAD', 'ALAND', 'AWATER'],\n",
       "      dtype='object')"
      ]
     },
     "execution_count": 41,
     "metadata": {},
     "output_type": "execute_result"
    }
   ],
   "source": [
    "schools_jointracts.columns"
   ]
  },
  {
   "cell_type": "markdown",
   "metadata": {},
   "source": [
    "---\n",
    "### 🥊 Challenge: Confidence Checks\n",
    "\n",
    "As always, we want to perform a confidence check on our intermediate result before we rush ahead.\n",
    "\n",
    "One way to do that is to introspect the structure of the result object a bit.\n",
    "\n",
    "1. What type of object should that have given us?\n",
    "2. What should the dimensions of that object be, and why?\n",
    "3. If we wanted a visual check of our results (i.e. a plot or map), what could we do?\n",
    "\n",
    "---"
   ]
  },
  {
   "cell_type": "code",
   "execution_count": 42,
   "metadata": {},
   "outputs": [],
   "source": [
    "# YOUR CODE HERE\n"
   ]
  },
  {
   "cell_type": "markdown",
   "metadata": {},
   "source": [
    "<details><summary><a>Solution</a></summary>\n",
    "    \n",
    "```python\n",
    "print(type(schools_jointracts))\n",
    "print(schools_jointracts.shape)\n",
    "\n",
    "ax = schools_jointracts.plot(color='white',\n",
    "                            edgecolor='black',\n",
    "                            figsize=(18, 18));\n",
    "schools_jointracts.iloc[:16].plot(column='GEOID', ax=ax, legend=True);\n",
    "```\n",
    "</details>"
   ]
  },
  {
   "cell_type": "markdown",
   "metadata": {},
   "source": [
    "## Attribute Join\n",
    "\n",
    "As we saw in the `head` of that dataset, there are no Census attributes in this dataset.\n",
    "\n",
    "In order to map the ACS data we need to associate it with the tracts. We will do that by joining the columns from `acs5_df_ac` to the columns of `schools_jointracts` using a common column as the key for matching rows. This process is called an **attribute join**. There are several ways we can go about performing this join.\n",
    "\n",
    "💡 **Tip**: You can read more about merging in `geopandas` [here](http://geopandas.org/mergingdata.html#attribute-joins)."
   ]
  },
  {
   "cell_type": "code",
   "execution_count": 44,
   "metadata": {},
   "outputs": [
    {
     "data": {
      "text/html": [
       "<div>\n",
       "<style scoped>\n",
       "    .dataframe tbody tr th:only-of-type {\n",
       "        vertical-align: middle;\n",
       "    }\n",
       "\n",
       "    .dataframe tbody tr th {\n",
       "        vertical-align: top;\n",
       "    }\n",
       "\n",
       "    .dataframe thead th {\n",
       "        text-align: right;\n",
       "    }\n",
       "</style>\n",
       "<table border=\"1\" class=\"dataframe\">\n",
       "  <thead>\n",
       "    <tr style=\"text-align: right;\">\n",
       "      <th></th>\n",
       "      <th>NAME</th>\n",
       "      <th>c_race</th>\n",
       "      <th>c_white</th>\n",
       "      <th>c_black</th>\n",
       "      <th>c_asian</th>\n",
       "      <th>c_latinx</th>\n",
       "      <th>c_race_moe</th>\n",
       "      <th>c_white_moe</th>\n",
       "      <th>c_black_moe</th>\n",
       "      <th>c_asian_moe</th>\n",
       "      <th>...</th>\n",
       "      <th>p_stay</th>\n",
       "      <th>p_movelocal</th>\n",
       "      <th>p_movecounty</th>\n",
       "      <th>p_movestate</th>\n",
       "      <th>p_moveabroad</th>\n",
       "      <th>p_car</th>\n",
       "      <th>p_carpool</th>\n",
       "      <th>p_transit</th>\n",
       "      <th>p_bike</th>\n",
       "      <th>p_walk</th>\n",
       "    </tr>\n",
       "  </thead>\n",
       "  <tbody>\n",
       "    <tr>\n",
       "      <th>0</th>\n",
       "      <td>Census Tract 4012, Alameda County, California</td>\n",
       "      <td>2456</td>\n",
       "      <td>1287</td>\n",
       "      <td>476</td>\n",
       "      <td>259</td>\n",
       "      <td>283</td>\n",
       "      <td>213</td>\n",
       "      <td>191</td>\n",
       "      <td>116</td>\n",
       "      <td>124</td>\n",
       "      <td>...</td>\n",
       "      <td>0.814951</td>\n",
       "      <td>0.103350</td>\n",
       "      <td>0.058415</td>\n",
       "      <td>0.010212</td>\n",
       "      <td>0.013072</td>\n",
       "      <td>0.551370</td>\n",
       "      <td>0.064384</td>\n",
       "      <td>0.189041</td>\n",
       "      <td>0.083562</td>\n",
       "      <td>0.058219</td>\n",
       "    </tr>\n",
       "    <tr>\n",
       "      <th>1</th>\n",
       "      <td>Census Tract 4013, Alameda County, California</td>\n",
       "      <td>3983</td>\n",
       "      <td>845</td>\n",
       "      <td>1348</td>\n",
       "      <td>827</td>\n",
       "      <td>796</td>\n",
       "      <td>680</td>\n",
       "      <td>186</td>\n",
       "      <td>411</td>\n",
       "      <td>283</td>\n",
       "      <td>...</td>\n",
       "      <td>0.611865</td>\n",
       "      <td>0.280040</td>\n",
       "      <td>0.063348</td>\n",
       "      <td>0.022624</td>\n",
       "      <td>0.022122</td>\n",
       "      <td>0.341153</td>\n",
       "      <td>0.108993</td>\n",
       "      <td>0.391496</td>\n",
       "      <td>0.018084</td>\n",
       "      <td>0.104594</td>\n",
       "    </tr>\n",
       "    <tr>\n",
       "      <th>2</th>\n",
       "      <td>Census Tract 4014, Alameda County, California</td>\n",
       "      <td>4340</td>\n",
       "      <td>713</td>\n",
       "      <td>1902</td>\n",
       "      <td>593</td>\n",
       "      <td>981</td>\n",
       "      <td>644</td>\n",
       "      <td>314</td>\n",
       "      <td>440</td>\n",
       "      <td>198</td>\n",
       "      <td>...</td>\n",
       "      <td>0.807683</td>\n",
       "      <td>0.163739</td>\n",
       "      <td>0.017803</td>\n",
       "      <td>0.006325</td>\n",
       "      <td>0.004451</td>\n",
       "      <td>0.470846</td>\n",
       "      <td>0.021317</td>\n",
       "      <td>0.255799</td>\n",
       "      <td>0.116614</td>\n",
       "      <td>0.102194</td>\n",
       "    </tr>\n",
       "    <tr>\n",
       "      <th>3</th>\n",
       "      <td>Census Tract 4015, Alameda County, California</td>\n",
       "      <td>2080</td>\n",
       "      <td>563</td>\n",
       "      <td>1064</td>\n",
       "      <td>215</td>\n",
       "      <td>190</td>\n",
       "      <td>369</td>\n",
       "      <td>222</td>\n",
       "      <td>283</td>\n",
       "      <td>116</td>\n",
       "      <td>...</td>\n",
       "      <td>0.841346</td>\n",
       "      <td>0.101442</td>\n",
       "      <td>0.053846</td>\n",
       "      <td>0.003365</td>\n",
       "      <td>0.000000</td>\n",
       "      <td>0.502037</td>\n",
       "      <td>0.090631</td>\n",
       "      <td>0.230143</td>\n",
       "      <td>0.047862</td>\n",
       "      <td>0.017312</td>\n",
       "    </tr>\n",
       "    <tr>\n",
       "      <th>4</th>\n",
       "      <td>Census Tract 4016, Alameda County, California</td>\n",
       "      <td>1889</td>\n",
       "      <td>324</td>\n",
       "      <td>960</td>\n",
       "      <td>247</td>\n",
       "      <td>274</td>\n",
       "      <td>400</td>\n",
       "      <td>135</td>\n",
       "      <td>376</td>\n",
       "      <td>164</td>\n",
       "      <td>...</td>\n",
       "      <td>0.830645</td>\n",
       "      <td>0.079570</td>\n",
       "      <td>0.082258</td>\n",
       "      <td>0.002151</td>\n",
       "      <td>0.005376</td>\n",
       "      <td>0.570481</td>\n",
       "      <td>0.122720</td>\n",
       "      <td>0.177446</td>\n",
       "      <td>0.063018</td>\n",
       "      <td>0.000000</td>\n",
       "    </tr>\n",
       "  </tbody>\n",
       "</table>\n",
       "<p>5 rows × 66 columns</p>\n",
       "</div>"
      ],
      "text/plain": [
       "                                            NAME  c_race  c_white  c_black  \\\n",
       "0  Census Tract 4012, Alameda County, California    2456     1287      476   \n",
       "1  Census Tract 4013, Alameda County, California    3983      845     1348   \n",
       "2  Census Tract 4014, Alameda County, California    4340      713     1902   \n",
       "3  Census Tract 4015, Alameda County, California    2080      563     1064   \n",
       "4  Census Tract 4016, Alameda County, California    1889      324      960   \n",
       "\n",
       "   c_asian  c_latinx  c_race_moe  c_white_moe  c_black_moe  c_asian_moe  ...  \\\n",
       "0      259       283         213          191          116          124  ...   \n",
       "1      827       796         680          186          411          283  ...   \n",
       "2      593       981         644          314          440          198  ...   \n",
       "3      215       190         369          222          283          116  ...   \n",
       "4      247       274         400          135          376          164  ...   \n",
       "\n",
       "     p_stay  p_movelocal  p_movecounty  p_movestate  p_moveabroad     p_car  \\\n",
       "0  0.814951     0.103350      0.058415     0.010212      0.013072  0.551370   \n",
       "1  0.611865     0.280040      0.063348     0.022624      0.022122  0.341153   \n",
       "2  0.807683     0.163739      0.017803     0.006325      0.004451  0.470846   \n",
       "3  0.841346     0.101442      0.053846     0.003365      0.000000  0.502037   \n",
       "4  0.830645     0.079570      0.082258     0.002151      0.005376  0.570481   \n",
       "\n",
       "   p_carpool  p_transit    p_bike    p_walk  \n",
       "0   0.064384   0.189041  0.083562  0.058219  \n",
       "1   0.108993   0.391496  0.018084  0.104594  \n",
       "2   0.021317   0.255799  0.116614  0.102194  \n",
       "3   0.090631   0.230143  0.047862  0.017312  \n",
       "4   0.122720   0.177446  0.063018  0.000000  \n",
       "\n",
       "[5 rows x 66 columns]"
      ]
     },
     "execution_count": 44,
     "metadata": {},
     "output_type": "execute_result"
    }
   ],
   "source": [
    "# Read in the ACS5 data for CA into a pandas DataFrame.\n",
    "# Note: We force the FIPS_11_digit to be read in as a string to preserve any leading zeroes.\n",
    "acs5_df = pd.read_csv(\"../data/Census/ACS5yr/census_variables_CA.csv\", dtype={'FIPS_11_digit': str})\n",
    "acs5_df.head()"
   ]
  },
  {
   "cell_type": "markdown",
   "metadata": {},
   "source": [
    "**Brief summary of the data**:\n",
    "\n",
    "Below is a table of the variables in this table. They were combined from \n",
    "different ACS 5 year tables.\n",
    "\n",
    "A few things to note:\n",
    "- Variables that start with `c_` are counts.\n",
    "- Variables that start with `med_` are medians.\n",
    "- Variables that end in `_moe` are margin of error estimates.\n",
    "- Variables that start with `_p` are proportions calcuated from the counts divided by the table denominator (the total count for whom that variable was assessed).\n",
    "\n",
    "\n",
    "| Variable        | Description                                     |\n",
    "|-----------------|-------------------------------------------------|\n",
    "|`c_race`         |Total population                                 \n",
    "|`c_white`        |Total white non-Latinx\n",
    "| `c_black`       | Total black and African American non-Latinx\n",
    "| `c_asian`       | Total Asian non-Latinx\n",
    "| `c_latinx`      | Total Latinx\n",
    "| `state_fips`    | State level FIPS code\n",
    "| `county_fips`   | County level FIPS code\n",
    "| `tract_fips`    |Tracts level FIPS code\n",
    "| `med_rent`      |Median rent\n",
    "| `med_hhinc`     |Median household income\n",
    "| `c_tenants`     |Total tenants\n",
    "| `c_owners`      |Total owners\n",
    "| `c_renters`     |Total renters\n",
    "| `c_movers`      |Total number of people who moved\n",
    "| `c_stay`        |Total number of people who stayed\n",
    "| `c_movelocal`   |Number of people who moved locally\n",
    "| `c_movecounty`  |Number of people who moved counties\n",
    "| `c_movestate`   | Number of people who moved states\n",
    "| `c_moveabroad`  |Number of people who moved abroad\n",
    "| `c_commute`     |Total number of commuters\n",
    "| `c_car`         | Number of commuters who use a car\n",
    "| `c_carpool`     | Number of commuters who carpool\n",
    "| `c_transit`     |Number of commuters who use public transit\n",
    "| `c_bike`        |Number of commuters who bike\n",
    "| `c_walk`        |Number of commuters who bike\n",
    "| `year`          | ACS data year\n",
    "| `FIPS_11_digit` | 11-digit FIPS code"
   ]
  },
  {
   "cell_type": "markdown",
   "metadata": {},
   "source": [
    "We're going to drop all of our `moe` columns by identifying all of those that end with `_moe`. We can do that in two steps, first by using `filter` to identify columns that contain the string `_moe`."
   ]
  },
  {
   "cell_type": "code",
   "execution_count": 45,
   "metadata": {},
   "outputs": [
    {
     "data": {
      "text/plain": [
       "Index(['c_race_moe', 'c_white_moe', 'c_black_moe', 'c_asian_moe',\n",
       "       'c_latinx_moe', 'med_rent_moe', 'med_hhinc_moe', 'c_tenants_moe',\n",
       "       'c_owners_moe', 'c_renters_moe', 'c_movers_moe', 'c_stay_moe',\n",
       "       'c_movelocal_moe', 'c_movecounty_moe', 'c_movestate_moe',\n",
       "       'c_moveabroad_moe', 'c_commute_moe', 'c_car_moe', 'c_carpool_moe',\n",
       "       'c_transit_moe', 'c_bike_moe', 'c_walk_moe'],\n",
       "      dtype='object')"
      ]
     },
     "execution_count": 45,
     "metadata": {},
     "output_type": "execute_result"
    }
   ],
   "source": [
    "moe_cols = acs5_df.filter(like='_moe', axis=1).columns\n",
    "moe_cols"
   ]
  },
  {
   "cell_type": "code",
   "execution_count": 46,
   "metadata": {},
   "outputs": [],
   "source": [
    "acs5_df.drop(moe_cols, axis=1, inplace=True)"
   ]
  },
  {
   "cell_type": "markdown",
   "metadata": {},
   "source": [
    "And lastly, let's grab only the rows for year 2018 and county FIPS code 1 (Alameda County)."
   ]
  },
  {
   "cell_type": "code",
   "execution_count": 47,
   "metadata": {},
   "outputs": [],
   "source": [
    "acs5_df_ac = acs5_df[(acs5_df['year'] == 2018) & (acs5_df['county_fips'] == 1)]"
   ]
  },
  {
   "cell_type": "markdown",
   "metadata": {},
   "source": [
    "Let's take a look at the common column in both our DataFrames."
   ]
  },
  {
   "cell_type": "code",
   "execution_count": 48,
   "metadata": {},
   "outputs": [
    {
     "data": {
      "text/plain": [
       "8323    06001441501\n",
       "8324    06001404700\n",
       "8325    06001442500\n",
       "8326    06001450300\n",
       "8327    06001450607\n",
       "Name: FIPS_11_digit, dtype: object"
      ]
     },
     "execution_count": 48,
     "metadata": {},
     "output_type": "execute_result"
    }
   ],
   "source": [
    "acs5_df_ac['FIPS_11_digit'].head()"
   ]
  },
  {
   "cell_type": "code",
   "execution_count": 43,
   "metadata": {},
   "outputs": [
    {
     "data": {
      "text/plain": [
       "0    06001428302\n",
       "1    06001428302\n",
       "2    06001428500\n",
       "3    06001427100\n",
       "4    06001428200\n",
       "Name: GEOID, dtype: object"
      ]
     },
     "execution_count": 43,
     "metadata": {},
     "output_type": "execute_result"
    }
   ],
   "source": [
    "schools_jointracts['GEOID'].head()"
   ]
  },
  {
   "cell_type": "markdown",
   "metadata": {},
   "source": [
    "Note that they are not named the same thing, but we just need to know that they contain the same information. Also note that they are not in the same order. \n",
    "        \n",
    "That's not only okay... that's the point! If they were in the same order already then we could just join them side by side, without having Python find and line up the matching rows from each.\n",
    "\n",
    "Let's do a `left` join to keep all of the Census tracts in Alameda County with schools and only the ACS data for those tracts."
   ]
  },
  {
   "cell_type": "code",
   "execution_count": 50,
   "metadata": {},
   "outputs": [
    {
     "data": {
      "text/html": [
       "<div>\n",
       "<style scoped>\n",
       "    .dataframe tbody tr th:only-of-type {\n",
       "        vertical-align: middle;\n",
       "    }\n",
       "\n",
       "    .dataframe tbody tr th {\n",
       "        vertical-align: top;\n",
       "    }\n",
       "\n",
       "    .dataframe thead th {\n",
       "        text-align: right;\n",
       "    }\n",
       "</style>\n",
       "<table border=\"1\" class=\"dataframe\">\n",
       "  <thead>\n",
       "    <tr style=\"text-align: right;\">\n",
       "      <th></th>\n",
       "      <th>OBJECTID</th>\n",
       "      <th>X</th>\n",
       "      <th>Y</th>\n",
       "      <th>Site</th>\n",
       "      <th>Address</th>\n",
       "      <th>City</th>\n",
       "      <th>State</th>\n",
       "      <th>Type</th>\n",
       "      <th>API</th>\n",
       "      <th>Org</th>\n",
       "      <th>...</th>\n",
       "      <th>p_stay</th>\n",
       "      <th>p_movelocal</th>\n",
       "      <th>p_movecounty</th>\n",
       "      <th>p_movestate</th>\n",
       "      <th>p_moveabroad</th>\n",
       "      <th>p_car</th>\n",
       "      <th>p_carpool</th>\n",
       "      <th>p_transit</th>\n",
       "      <th>p_bike</th>\n",
       "      <th>p_walk</th>\n",
       "    </tr>\n",
       "  </thead>\n",
       "  <tbody>\n",
       "    <tr>\n",
       "      <th>0</th>\n",
       "      <td>1</td>\n",
       "      <td>-122.238759</td>\n",
       "      <td>37.744765</td>\n",
       "      <td>Amelia Earhart Elementary</td>\n",
       "      <td>400 Packet Landing Rd</td>\n",
       "      <td>Alameda</td>\n",
       "      <td>CA</td>\n",
       "      <td>ES</td>\n",
       "      <td>933</td>\n",
       "      <td>Public</td>\n",
       "      <td>...</td>\n",
       "      <td>0.901694</td>\n",
       "      <td>0.05312</td>\n",
       "      <td>0.013314</td>\n",
       "      <td>0.023534</td>\n",
       "      <td>0.008338</td>\n",
       "      <td>0.680745</td>\n",
       "      <td>0.07765</td>\n",
       "      <td>0.107293</td>\n",
       "      <td>0.004722</td>\n",
       "      <td>0.01915</td>\n",
       "    </tr>\n",
       "    <tr>\n",
       "      <th>1</th>\n",
       "      <td>2</td>\n",
       "      <td>-122.251853</td>\n",
       "      <td>37.739004</td>\n",
       "      <td>Bay Farm Elementary</td>\n",
       "      <td>200 Aughinbaugh Way</td>\n",
       "      <td>Alameda</td>\n",
       "      <td>CA</td>\n",
       "      <td>ES</td>\n",
       "      <td>932</td>\n",
       "      <td>Public</td>\n",
       "      <td>...</td>\n",
       "      <td>0.901694</td>\n",
       "      <td>0.05312</td>\n",
       "      <td>0.013314</td>\n",
       "      <td>0.023534</td>\n",
       "      <td>0.008338</td>\n",
       "      <td>0.680745</td>\n",
       "      <td>0.07765</td>\n",
       "      <td>0.107293</td>\n",
       "      <td>0.004722</td>\n",
       "      <td>0.01915</td>\n",
       "    </tr>\n",
       "  </tbody>\n",
       "</table>\n",
       "<p>2 rows × 66 columns</p>\n",
       "</div>"
      ],
      "text/plain": [
       "   OBJECTID           X          Y                       Site  \\\n",
       "0         1 -122.238759  37.744765  Amelia Earhart Elementary   \n",
       "1         2 -122.251853  37.739004        Bay Farm Elementary   \n",
       "\n",
       "                 Address     City State Type  API     Org  ...    p_stay  \\\n",
       "0  400 Packet Landing Rd  Alameda    CA   ES  933  Public  ...  0.901694   \n",
       "1    200 Aughinbaugh Way  Alameda    CA   ES  932  Public  ...  0.901694   \n",
       "\n",
       "  p_movelocal  p_movecounty p_movestate p_moveabroad     p_car p_carpool  \\\n",
       "0     0.05312      0.013314    0.023534     0.008338  0.680745   0.07765   \n",
       "1     0.05312      0.013314    0.023534     0.008338  0.680745   0.07765   \n",
       "\n",
       "  p_transit    p_bike   p_walk  \n",
       "0  0.107293  0.004722  0.01915  \n",
       "1  0.107293  0.004722  0.01915  \n",
       "\n",
       "[2 rows x 66 columns]"
      ]
     },
     "execution_count": 50,
     "metadata": {},
     "output_type": "execute_result"
    }
   ],
   "source": [
    "# Left join keeps all tracts and the ACS data for those tracts\n",
    "schools_jointracts = schools_jointracts.merge(acs5_df_ac,\n",
    "                                        left_on='GEOID',\n",
    "                                        right_on='FIPS_11_digit',\n",
    "                                        how='left')\n",
    "schools_jointracts.head(2)"
   ]
  },
  {
   "cell_type": "code",
   "execution_count": 53,
   "metadata": {
    "scrolled": true
   },
   "outputs": [
    {
     "data": {
      "text/plain": [
       "Index(['OBJECTID', 'X', 'Y', 'Site', 'Address', 'City', 'State', 'Type', 'API',\n",
       "       'Org', 'GlobalID', 'geometry', 'index_right', 'STATEFP', 'COUNTYFP',\n",
       "       'TRACTCE', 'AFFGEOID', 'GEOID', 'NAME_x', 'LSAD', 'ALAND', 'AWATER',\n",
       "       'NAME_y', 'c_race', 'c_white', 'c_black', 'c_asian', 'c_latinx',\n",
       "       'state_fips', 'county_fips', 'tract_fips', 'med_rent', 'med_hhinc',\n",
       "       'c_tenants', 'c_owners', 'c_renters', 'c_movers', 'c_stay',\n",
       "       'c_movelocal', 'c_movecounty', 'c_movestate', 'c_moveabroad',\n",
       "       'c_commute', 'c_car', 'c_carpool', 'c_transit', 'c_bike', 'c_walk',\n",
       "       'year', 'FIPS_11_digit', 'p_white', 'p_black', 'p_asian', 'p_latinx',\n",
       "       'p_owners', 'p_renters', 'p_stay', 'p_movelocal', 'p_movecounty',\n",
       "       'p_movestate', 'p_moveabroad', 'p_car', 'p_carpool', 'p_transit',\n",
       "       'p_bike', 'p_walk'],\n",
       "      dtype='object')"
      ]
     },
     "execution_count": 53,
     "metadata": {},
     "output_type": "execute_result"
    }
   ],
   "source": [
    "schools_jointracts.columns"
   ]
  },
  {
   "cell_type": "markdown",
   "metadata": {},
   "source": [
    "Let's save out our merged data so we can use it in the final notebook."
   ]
  },
  {
   "cell_type": "code",
   "execution_count": 55,
   "metadata": {},
   "outputs": [],
   "source": [
    "schools_jointracts.to_file('../data/schools_jointracts.json', driver='GeoJSON')"
   ]
  },
  {
   "cell_type": "markdown",
   "metadata": {},
   "source": [
    "Now that we have all the "
   ]
  },
  {
   "cell_type": "code",
   "execution_count": null,
   "metadata": {},
   "outputs": [],
   "source": []
  },
  {
   "cell_type": "code",
   "execution_count": null,
   "metadata": {},
   "outputs": [],
   "source": []
  },
  {
   "cell_type": "code",
   "execution_count": null,
   "metadata": {},
   "outputs": [],
   "source": []
  },
  {
   "cell_type": "markdown",
   "metadata": {},
   "source": [
    "<a id='section2'></a>\n",
    "\n",
    "# 2. Interactive Visualization"
   ]
  },
  {
   "cell_type": "markdown",
   "metadata": {},
   "source": [
    "Now that we have a dataset with schools and their Census tract information, let's visualize "
   ]
  },
  {
   "cell_type": "markdown",
   "metadata": {},
   "source": [
    "In this case, let's say we're interested in the relationship between the median household income in a Census tract (`tracts_acs_gdf_ac['med_hhinc']`) and a school's Academic Performance Index (`schools_gdf['API']`).\n",
    "\n",
    "To start, let's take a look at the distributions of our two variables of interest.In this case, let's say we're interested in the relationship between the median household income in a Census tract (`tracts_acs_gdf_ac['med_hhinc']`) and a school's Academic Performance Index (`schools_gdf['API']`).\n",
    "\n",
    "To start, let's take a look at the distributions of our two variables of interest."
   ]
  },
  {
   "cell_type": "code",
   "execution_count": null,
   "metadata": {},
   "outputs": [],
   "source": []
  },
  {
   "cell_type": "markdown",
   "metadata": {},
   "source": [
    "💡 **Tip**: \n",
    "\n"
   ]
  },
  {
   "cell_type": "markdown",
   "metadata": {},
   "source": [
    "<a id='section3'></a>\n",
    "\n",
    "# 3.🎬 **Demo**: API, Vector and Raster Data Sources"
   ]
  },
  {
   "cell_type": "code",
   "execution_count": null,
   "metadata": {},
   "outputs": [],
   "source": []
  },
  {
   "cell_type": "code",
   "execution_count": null,
   "metadata": {},
   "outputs": [],
   "source": []
  },
  {
   "cell_type": "code",
   "execution_count": null,
   "metadata": {},
   "outputs": [],
   "source": []
  },
  {
   "cell_type": "code",
   "execution_count": null,
   "metadata": {},
   "outputs": [],
   "source": [
    "google earth engine\n",
    "rasterize"
   ]
  },
  {
   "cell_type": "markdown",
   "metadata": {},
   "source": [
    "<a id='section4'></a>\n",
    "\n",
    "# 4. 🥊 Challenge: Create Your Own Map"
   ]
  },
  {
   "cell_type": "markdown",
   "metadata": {},
   "source": []
  },
  {
   "cell_type": "code",
   "execution_count": null,
   "metadata": {},
   "outputs": [],
   "source": [
    "# You may have some starter code for the challenge that you can put in its own cell.\n",
    "# Always have a following cell that says \"YOUR CODE HERE\" with a few empty lines beneath it, \n",
    "# so that attendees know where to put their code."
   ]
  },
  {
   "cell_type": "code",
   "execution_count": null,
   "metadata": {},
   "outputs": [],
   "source": [
    "# YOUR CODE HERE\n",
    "\n",
    "\n"
   ]
  },
  {
   "cell_type": "markdown",
   "metadata": {
    "jp-MarkdownHeadingCollapsed": true,
    "tags": []
   },
   "source": [
    "<div class=\"alert alert-success\">\n",
    "\n",
    "## ❗ Key Points\n",
    "\n",
    "* EDIT ME. Recap the most useful information in this notebook. Keep it short and use action words. Min 3, max 8.\n",
    "* EDIT ME. Recap the most useful information in this notebook. Keep it short and use action words. Min 3, max 8.\n",
    "\n",
    "</div>"
   ]
  }
 ],
 "metadata": {
  "kernelspec": {
   "display_name": "Python 3 (ipykernel)",
   "language": "python",
   "name": "python3"
  },
  "language_info": {
   "codemirror_mode": {
    "name": "ipython",
    "version": 3
   },
   "file_extension": ".py",
   "mimetype": "text/x-python",
   "name": "python",
   "nbconvert_exporter": "python",
   "pygments_lexer": "ipython3",
   "version": "3.11.5"
  }
 },
 "nbformat": 4,
 "nbformat_minor": 4
}
